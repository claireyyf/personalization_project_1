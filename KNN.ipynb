{
 "cells": [
  {
   "cell_type": "markdown",
   "metadata": {},
   "source": [
    "# KNN\n",
    "This notebook contains the following parts:\n",
    "* [Get Sample Data](#sampling)\n",
    "* [Get Predictions & Evaluation](#modeling)\n",
    "* [Recommendations & Evaluation](#rec)"
   ]
  },
  {
   "cell_type": "code",
   "execution_count": 1,
   "metadata": {},
   "outputs": [],
   "source": [
    "import numpy as np\n",
    "import pandas as pd\n",
    "\n",
    "from datetime import date\n",
    "\n",
    "import matplotlib.pyplot as plt\n",
    "\n",
    "from sklearn.model_selection import train_test_split\n",
    "from sklearn.metrics.pairwise import cosine_similarity\n",
    "from sklearn.metrics import mean_squared_error\n",
    "\n",
    "from math import sqrt"
   ]
  },
  {
   "cell_type": "code",
   "execution_count": 2,
   "metadata": {},
   "outputs": [],
   "source": [
    "#for timing process\n",
    "import time"
   ]
  },
  {
   "cell_type": "markdown",
   "metadata": {},
   "source": [
    "<a id='sampling'></a>\n",
    "## Get Sample"
   ]
  },
  {
   "cell_type": "code",
   "execution_count": 9,
   "metadata": {
    "jupyter": {
     "source_hidden": true
    }
   },
   "outputs": [],
   "source": [
    "## Note: csv_file is not included in the repo\n",
    "\n",
    "def get_sample(csv_file, N, seed):\n",
    "    np.random.seed(seed)\n",
    "    ratings = pd.read_csv(csv_file)\n",
    "    \n",
    "    #keep only ratings from the most recent 5 years： 2010-2015\n",
    "    ratings['year'] = ratings['timestamp'].apply(lambda x: date.fromtimestamp(x).year)\n",
    "    ratings = ratings[ratings['year']>=date.fromisoformat('2010-01-01').year]\n",
    "    ratings.drop(['timestamp','year'],axis=1,inplace=True) #'timestamp' and 'year' no longer useful \n",
    "    \n",
    "    #keep only movies with at least 20 ratings\n",
    "    m_counts = ratings.groupby('movieId').size()\n",
    "    m_index = m_counts[m_counts>=20].index\n",
    "    ratings = ratings[ratings['movieId'].isin(m_index)]\n",
    "    \n",
    "    #keep only users who have rated at least 20 movies - consistent with original data\n",
    "    u_counts = ratings.groupby('userId').size()\n",
    "    u_index = u_counts[u_counts>=20].index\n",
    "    ratings = ratings[ratings['userId'].isin(u_index)]\n",
    "    \n",
    "    #sample out N users\n",
    "    users = ratings['userId'].unique()\n",
    "    u_index_sample = np.random.choice(users, N)\n",
    "    sample = ratings[ratings['userId'].isin(u_index_sample)]\n",
    "    \n",
    "    #keep a percentage of ratings for each user: 30% -- lower variance\n",
    "    pct = pd.DataFrame(columns=['userId','movieId','rating'])\n",
    "    u_N, u_rating_count = np.unique(sample['userId'], return_counts=True)\n",
    "    \n",
    "    for i in range(len(u_N)):\n",
    "        u_id = u_N[i]\n",
    "        u_sample = sample[sample['userId']==u_id]\n",
    "        u_sample = u_sample[u_sample['movieId'].isin(np.random.choice(u_sample['movieId'].unique(),\n",
    "                                                                      int(u_rating_count[i]*0.3)))]\n",
    "        pct = pct.append(u_sample)\n",
    "    \n",
    "    sample = pct\n",
    "    \n",
    "    print('number of unique users:', len(sample['userId'].unique()))\n",
    "    print('number of unique movies:', len(sample['movieId'].unique()))\n",
    "    \n",
    "    return sample\n"
   ]
  },
  {
   "cell_type": "code",
   "execution_count": 3,
   "metadata": {
    "jupyter": {
     "source_hidden": true
    }
   },
   "outputs": [
    {
     "name": "stdout",
     "output_type": "stream",
     "text": [
      "number of unique users: 974\n",
      "number of unique movies: 5619\n"
     ]
    }
   ],
   "source": [
    "sample = get_sample('ratings.csv', 1000, 1)"
   ]
  },
  {
   "cell_type": "code",
   "execution_count": 46,
   "metadata": {},
   "outputs": [],
   "source": [
    "##Alternative Sampling\n",
    "def get_sample_alt(csv_file, u_size, m_size, seed):\n",
    "    np.random.seed(seed)\n",
    "    sample = pd.read_csv(csv_file)\n",
    "    \n",
    "    #keep only ratings from the most recent 5 years： 2010-2015\n",
    "    sample['year'] = sample['timestamp'].apply(lambda x: date.fromtimestamp(x).year)\n",
    "    sample = sample[sample['year']>=date.fromisoformat('2010-01-01').year]\n",
    "    sample.drop(['timestamp','year'],axis=1,inplace=True) #'timestamp' and 'year' no longer useful \n",
    "    \n",
    "    #keep only movies with at least 20 ratings\n",
    "    m_counts = sample.groupby('movieId').size()\n",
    "    m_index = m_counts[m_counts>=20].index\n",
    "    sample = sample[sample['movieId'].isin(m_index)]\n",
    "    \n",
    "    #keep only users who have rated at least 20 movies - consistent with original data\n",
    "    u_counts = sample.groupby('userId').size()\n",
    "    u_index = u_counts[u_counts>=20].index\n",
    "    sample = sample[sample['userId'].isin(u_index)]\n",
    "    \n",
    "    #sample out u_size number of users and m_size number of movies\n",
    "    user_sample = np.random.choice(sample.userId.unique(), replace=False, size=u_size)\n",
    "    movie_sample = np.random.choice(sample.movieId.unique(), replace=False, size = m_size)\n",
    "    sample = sample[sample['userId'].isin(user_sample)]\n",
    "    sample = sample[sample['movieId'].isin(movie_sample)]\n",
    "    \n",
    "    #plot sample data\n",
    "    plt.plot(np.arange(1, len(sample['userId'].unique())+1), sorted(sample.groupby('userId').size(), reverse=True))\n",
    "    plt.xlabel('number of users')\n",
    "    plt.ylabel('number of rated movies')\n",
    "    plt.show()\n",
    "   \n",
    "    print('number of unique users:', len(sample['userId'].unique()))\n",
    "    print('number of unique movies:', len(sample['movieId'].unique()))\n",
    "    \n",
    "    return sample"
   ]
  },
  {
   "cell_type": "code",
   "execution_count": 47,
   "metadata": {},
   "outputs": [
    {
     "data": {
      "image/png": "[encoded data removed]",
      "text/plain": [
       "<Figure size 432x288 with 1 Axes>"
      ]
     },
     "metadata": {
      "needs_background": "light"
     },
     "output_type": "display_data"
    },
    {
     "name": "stdout",
     "output_type": "stream",
     "text": [
      "number of unique users: 202\n",
      "number of unique movies: 35\n"
     ]
    },
    {
     "data": {
      "image/png": "[encoded data removed]",
      "text/plain": [
       "<Figure size 432x288 with 1 Axes>"
      ]
     },
     "metadata": {
      "needs_background": "light"
     },
     "output_type": "display_data"
    },
    {
     "name": "stdout",
     "output_type": "stream",
     "text": [
      "number of unique users: 4536\n",
      "number of unique movies: 496\n"
     ]
    },
    {
     "data": {
      "image/png": "[encoded data removed]",
      "text/plain": [
       "<Figure size 432x288 with 1 Axes>"
      ]
     },
     "metadata": {
      "needs_background": "light"
     },
     "output_type": "display_data"
    },
    {
     "name": "stdout",
     "output_type": "stream",
     "text": [
      "number of unique users: 9855\n",
      "number of unique movies: 1000\n"
     ]
    }
   ],
   "source": [
    "#sample size of 500-100, 5000-500, 10000-1000\n",
    "sample1 = get_sample_alt('ratings.csv', 500, 50, 1)\n",
    "sample2 = get_sample_alt('ratings.csv', 5000, 500, 1)\n",
    "sample3 = get_sample_alt('ratings.csv', 10000, 1000, 1)"
   ]
  },
  {
   "cell_type": "code",
   "execution_count": 3,
   "metadata": {},
   "outputs": [],
   "source": [
    "def get_train_test(sample_data, split, seed):\n",
    "    np.random.seed(seed)\n",
    "    sample = sample_data\n",
    "    \n",
    "    train, test = train_test_split(sample, test_size=split)\n",
    "    train.reset_index(drop=True, inplace=True)\n",
    "    test.reset_index(drop=True, inplace=True)\n",
    "    \n",
    "    #check\n",
    "    print('number of users in train:',len(np.unique(train['userId'])))\n",
    "    print('number of movies in train:',len(np.unique(train['movieId'])))\n",
    "    print('number of users in test:', len(np.unique(test['userId'])))\n",
    "    print('number of movies in test:',len(np.unique(test['movieId'])))\n",
    "    \n",
    "    return train, test"
   ]
  },
  {
   "cell_type": "code",
   "execution_count": 6,
   "metadata": {},
   "outputs": [
    {
     "name": "stdout",
     "output_type": "stream",
     "text": [
      "number of users in train: 4222\n",
      "number of movies in train: 490\n",
      "number of users in test: 3211\n",
      "number of movies in test: 450\n"
     ]
    }
   ],
   "source": [
    "train1, test1 = get_train_test(sample1,0.3,1)\n",
    "train2, test2 = get_train_test(sample2,0.3,1)\n",
    "train2, test2 = get_train_test(sample3,0.3,1)"
   ]
  },
  {
   "cell_type": "markdown",
   "metadata": {},
   "source": [
    "<a id='modeling'></a>\n",
    "## Models\n",
    "* [Baselin](#baseline)\n",
    "* [KNN](#knn) - user-based collaborative filtering\n",
    "    * Parameters: K (best # of neighbors)\n",
    "    * Evaluation by RMSE, Precision, Recall"
   ]
  },
  {
   "cell_type": "markdown",
   "metadata": {},
   "source": [
    "<a id='baseline'></a>\n",
    "### Baseline"
   ]
  },
  {
   "cell_type": "code",
   "execution_count": 124,
   "metadata": {},
   "outputs": [],
   "source": [
    "def accuray(predict_results, method=\"all\"):\n",
    "    #compare rmse with mae\n",
    "    \n",
    "    def rmse(predict_results):\n",
    "        length = 0\n",
    "        _rmse_sum = 0\n",
    "        for uid, iid, real_rating, pred_rating in predict_results:\n",
    "            length += 1\n",
    "            _rmse_sum += (pred_rating - real_rating) ** 2\n",
    "        return round(np.sqrt(_rmse_sum / length), 4)\n",
    "\n",
    "    def mae(predict_results):\n",
    "        length = 0\n",
    "        _mae_sum = 0\n",
    "        for uid, iid, real_rating, pred_rating in predict_results:\n",
    "            length += 1\n",
    "            _mae_sum += abs(pred_rating - real_rating)\n",
    "        return round(_mae_sum / length, 4)\n",
    "\n",
    "    def rmse_mae(predict_results):\n",
    "        length = 0\n",
    "        _rmse_sum = 0\n",
    "        _mae_sum = 0\n",
    "        for uid, iid, real_rating, pred_rating in predict_results:\n",
    "            length += 1\n",
    "            _rmse_sum += (pred_rating - real_rating) ** 2\n",
    "            _mae_sum += abs(pred_rating - real_rating)\n",
    "        return round(np.sqrt(_rmse_sum / length), 4), round(_mae_sum / length, 4)\n",
    "\n",
    "    if method.lower() == \"rmse\":\n",
    "        rmse(predict_results)\n",
    "    elif method.lower() == \"mae\":\n",
    "        mae(predict_results)\n",
    "    else:\n",
    "        return rmse_mae(predict_results)\n",
    "\n",
    "    \n",
    "    \n",
    "class BaselineCFBySGD(object):\n",
    "\n",
    "    def __init__(self, number_epochs, alpha, reg, columns=[\"uid\", \"iid\", \"rating\"]):\n",
    "        self.number_epochs = number_epochs\n",
    "        self.alpha = alpha\n",
    "        self.reg = reg\n",
    "        self.columns = columns\n",
    "\n",
    "    def fit(self, dataset):\n",
    "        self.dataset = dataset\n",
    "        self.users_ratings = dataset.groupby(self.columns[0]).agg([list])[[self.columns[1], self.columns[2]]]\n",
    "        self.items_ratings = dataset.groupby(self.columns[1]).agg([list])[[self.columns[0], self.columns[2]]]\n",
    "        self.global_mean = self.dataset[self.columns[2]].mean()\n",
    "        self.bu, self.bi = self.sgd()\n",
    "\n",
    "    def sgd(self):\n",
    "        bu = dict(zip(self.users_ratings.index, np.zeros(len(self.users_ratings))))\n",
    "        bi = dict(zip(self.items_ratings.index, np.zeros(len(self.items_ratings))))\n",
    "        for i in range(self.number_epochs):\n",
    "            for uid, iid, real_rating in self.dataset.itertuples(index=False):\n",
    "                error = real_rating - (self.global_mean + bu[uid] + bi[iid])\n",
    "                bu[uid] += self.alpha * (error - self.reg * bu[uid])\n",
    "                bi[iid] += self.alpha * (error - self.reg * bi[iid])\n",
    "        return bu, bi\n",
    "\n",
    "    def predict(self, uid, iid):\n",
    "        if iid not in self.items_ratings.index:\n",
    "            raise Exception(\"Cannot predict <{uid}>'s rating of <{iid}> because <{iid}> data is missing in training set\".format(uid=uid, iid=iid))\n",
    "        predict_rating = self.global_mean + self.bu[uid] + self.bi[iid]\n",
    "        return predict_rating\n",
    "\n",
    "    def test(self,testset):\n",
    "        for uid, iid, real_rating in testset.itertuples(index=False):\n",
    "            try:\n",
    "                pred_rating = self.predict(uid, iid)\n",
    "            except Exception as e:\n",
    "                print(e)\n",
    "            else:\n",
    "                yield uid, iid, real_rating, pred_rating\n",
    "\n",
    "if __name__ == '__main__':\n",
    "\n",
    "    trainset = train\n",
    "    testset = test\n",
    "\n",
    "    bcf = BaselineCFBySGD(20, 0.1, 0.1, [\"userId\", \"movieId\", \"rating\"])\n",
    "    bcf.fit(trainset)\n",
    "\n",
    "    pred_results = bcf.test(train)\n",
    "\n",
    "    rmse, mae = accuray(pred_results)"
   ]
  },
  {
   "cell_type": "markdown",
   "metadata": {},
   "source": [
    "<a id='knn'></a>\n",
    "### User-based CF: KNN"
   ]
  },
  {
   "cell_type": "code",
   "execution_count": null,
   "metadata": {},
   "outputs": [],
   "source": [
    "# start=time.time()"
   ]
  },
  {
   "cell_type": "code",
   "execution_count": 7,
   "metadata": {},
   "outputs": [],
   "source": [
    "def get_o_matrices(input_df):\n",
    "    #create index\n",
    "    users = np.unique(input_df['userId'])\n",
    "    #transform dataframe to matrix\n",
    "    ratings = input_df.pivot(index='userId',columns='movieId',values='rating').fillna(0)\n",
    "    #calculate user pairwise similarity scores\n",
    "    user_sim = cosine_similarity(ratings)\n",
    "    user_sim = pd.DataFrame(user_sim, columns=users, index=users).fillna(0)\n",
    "    return ratings, user_sim"
   ]
  },
  {
   "cell_type": "code",
   "execution_count": 8,
   "metadata": {},
   "outputs": [],
   "source": [
    "def get_knn_sim(sim_matrix, k):\n",
    "    df = sim_matrix.copy()\n",
    "    for i in df.index:\n",
    "        row = df.loc[i]\n",
    "        row_sorted = row.sort_values(ascending=False)[0:(k+1)]\n",
    "        row_sorted.loc[i]=0\n",
    "        row_sorted[(k+1):]=0\n",
    "        df.loc[i] = row_sorted\n",
    "\n",
    "    df = df.fillna(0)\n",
    "    return df"
   ]
  },
  {
   "cell_type": "code",
   "execution_count": 9,
   "metadata": {},
   "outputs": [],
   "source": [
    "def get_normalized_ratings(original_ratings_matrix):\n",
    "    df = original_ratings_matrix.copy()\n",
    "    for i in df.index:\n",
    "        o_row = df.loc[i]\n",
    "        mean = np.mean(o_row[o_row>0])\n",
    "        #if a user-movie pair has no rating, normalized rating should be 0\n",
    "        bm = (o_row==0)\n",
    "        o_row[bm] = mean\n",
    "        df.loc[i] = o_row - mean\n",
    "    return df"
   ]
  },
  {
   "cell_type": "code",
   "execution_count": 10,
   "metadata": {},
   "outputs": [],
   "source": [
    "def mean_ratings(original_ratings_matrix):\n",
    "    df = original_ratings_matrix.copy()\n",
    "    for i in df.index:\n",
    "        o_row = df.loc[i]\n",
    "        mean = np.mean(o_row[o_row>0])\n",
    "        bm = (o_row!=0)\n",
    "        o_row[bm] = mean\n",
    "    return df"
   ]
  },
  {
   "cell_type": "code",
   "execution_count": 11,
   "metadata": {},
   "outputs": [],
   "source": [
    "#for movies already consumed - test the model\n",
    "def get_prediction(sim_df, norm_ratings, u_mean_ratings):\n",
    "    per_user_sim = np.sum(abs(sim_df),axis=1)\n",
    "\n",
    "    predict_nomean = sim_df.dot(norm_ratings)\n",
    "    predict_nomean = predict_nomean.apply(lambda x: x/per_user_sim)\n",
    "    prediction = predict_nomean + u_mean_ratings\n",
    "    \n",
    "    return prediction"
   ]
  },
  {
   "cell_type": "code",
   "execution_count": 12,
   "metadata": {},
   "outputs": [],
   "source": [
    "def get_rmse(prediction, input_df, original_ratings_matrix):\n",
    "    N = prediction.shape[0]*prediction.shape[1]\n",
    "    n = len(input_df)\n",
    "    RMSE = sqrt(mean_squared_error(original_ratings_matrix, prediction.fillna(0))*N/n)\n",
    "    return RMSE"
   ]
  },
  {
   "cell_type": "markdown",
   "metadata": {},
   "source": [
    "<p style=\"color:red\">When testing for best k, we cannot just run a loop from 0 to 60: takes too long</p>"
   ]
  },
  {
   "cell_type": "code",
   "execution_count": 58,
   "metadata": {},
   "outputs": [
    {
     "data": {
      "image/png": "[encoded data removed]",
      "text/plain": [
       "<Figure size 432x288 with 1 Axes>"
      ]
     },
     "metadata": {
      "needs_background": "light"
     },
     "output_type": "display_data"
    }
   ],
   "source": [
    "#也许可以用这个，但还是一个for loop会很慢\n",
    "#visualize\n",
    "# k_list = np.arange(1,21)\n",
    "# score_list = np.array([])\n",
    "\n",
    "# for k in k_list:\n",
    "#     o_rat, o_sim = get_o_matrices(train)\n",
    "#     knn = get_knn_sim(o_sim,k)\n",
    "#     norm_ratings = get_normalized_ratings(o_rat)\n",
    "#     mean_results = mean_ratings(o_rat)\n",
    "#     predict = get_prediction(knn, norm_ratings, mean_results)\n",
    "#     score = get_rmse(predict,train,o_rat)\n",
    "#     score_list = np.append(score_list, score)\n",
    "\n",
    "plt.plot(k_list, score_list)\n",
    "plt.show()"
   ]
  },
  {
   "cell_type": "code",
   "execution_count": 122,
   "metadata": {},
   "outputs": [],
   "source": [
    "##use training data to get the parameter: best k (neighbors)\n",
    "o_rat, o_sim = get_o_matrices(train2)\n",
    "\n",
    "def get_best_k(input_df):\n",
    "    best_k = 0\n",
    "    best_rmse = 10 #set one large enough\n",
    "    for k in range(50,60):\n",
    "        knn = get_knn_sim(o_sim,k)\n",
    "        norm_ratings = get_normalized_ratings(o_rat)\n",
    "        mean_results = mean_ratings(o_rat)\n",
    "        predict = get_prediction(knn, norm_ratings, mean_results)\n",
    "        rmse = get_rmse(predict,train,o_rat)\n",
    "        if rmse < best_rmse:\n",
    "            best_k = k\n",
    "            best_score = score\n",
    "    print('best k is:', best_k)\n",
    "    print('best RMSE is:', best_score)\n",
    "    \n",
    "    return best_k"
   ]
  },
  {
   "cell_type": "code",
   "execution_count": 15,
   "metadata": {},
   "outputs": [],
   "source": [
    "# best_k = 55\n",
    "best_k = 51\n",
    "\n",
    "def get_perf(input_df):\n",
    "    o_rat, o_sim = get_o_matrices(input_df)\n",
    "    knn = get_knn_sim(o_sim, best_k)\n",
    "    norm_ratings = get_normalized_ratings(o_rat)\n",
    "    mean_results = mean_ratings(o_rat)\n",
    "    predict = get_prediction(knn, norm_ratings, mean_results)\n",
    "    rmse = get_rmse(predict,input_df,o_rat)\n",
    "    print('When k is', best_k, 'the RMSE is', rmse)\n",
    "    return rmse"
   ]
  },
  {
   "cell_type": "code",
   "execution_count": 16,
   "metadata": {},
   "outputs": [
    {
     "name": "stdout",
     "output_type": "stream",
     "text": [
      "When k is 51 the RMSE of test set is 0.7924332526483753\n"
     ]
    },
    {
     "data": {
      "text/plain": [
       "0.7924332526483753"
      ]
     },
     "execution_count": 16,
     "metadata": {},
     "output_type": "execute_result"
    }
   ],
   "source": [
    "get_perf(train2)"
   ]
  },
  {
   "cell_type": "code",
   "execution_count": 17,
   "metadata": {},
   "outputs": [
    {
     "name": "stdout",
     "output_type": "stream",
     "text": [
      "When k is 51 the RMSE of test set is 0.7334208260326935\n"
     ]
    },
    {
     "data": {
      "text/plain": [
       "0.7334208260326935"
      ]
     },
     "execution_count": 17,
     "metadata": {},
     "output_type": "execute_result"
    }
   ],
   "source": [
    "get_perf(test2)"
   ]
  },
  {
   "cell_type": "markdown",
   "metadata": {},
   "source": [
    "<a id='rec'></a>\n",
    "## Recommendation Modeling\n",
    "* Parameter for tuning: n = the number of _new_ movies to recommend to users\n",
    "* [Generate Recommendations](#get-rec)\n",
    "* [Evaluations](#eval)"
   ]
  },
  {
   "cell_type": "markdown",
   "metadata": {},
   "source": [
    "<a id='get-rec'></a>\n",
    "### Generate Recs"
   ]
  },
  {
   "cell_type": "code",
   "execution_count": 19,
   "metadata": {},
   "outputs": [],
   "source": [
    "##create ratings df to rank and rec new movies on training data\n",
    "\n",
    "o_rat, o_sim = get_o_matrices(train2)\n",
    "knn = get_knn_sim(o_sim,best_k)\n",
    "\n",
    "new_m_mask = o_rat.copy()\n",
    "for i in new_m_mask.index:\n",
    "    o_row = new_m_mask.loc[i]\n",
    "    #if watched, discard. if unwatched, keep\n",
    "    o_row[o_row>0] = 10\n",
    "    o_row[o_row<=0] = 1\n",
    "    o_row[o_row!=1] = 0\n",
    "\n",
    "ratings_for_rec = (knn.dot(o_rat))*new_m_mask"
   ]
  },
  {
   "cell_type": "code",
   "execution_count": 20,
   "metadata": {},
   "outputs": [],
   "source": [
    "##generate raw recommendations from training data\n",
    "##see section: parameter tuning for tuning algorithm\n",
    "\n",
    "n = 10 #arbitrary at the moment\n",
    "rec = {}\n",
    "for i in ratings_for_rec.index:\n",
    "    row = ratings_for_rec.loc[i]\n",
    "    row_sorted = row.sort_values(ascending=False)[0:n]\n",
    "    m_ind = row_sorted.index\n",
    "    rec[i] = list(m_ind)\n"
   ]
  },
  {
   "cell_type": "code",
   "execution_count": 23,
   "metadata": {},
   "outputs": [],
   "source": [
    "#filter recommendations with testing data\n",
    "watched = {}\n",
    "for i in sorted(test2['userId'].unique()):\n",
    "    movies = test2[test2['userId']==i]['movieId']\n",
    "    watched[i] = list(movies)\n",
    "watched_m = np.array(list(watched.values()))\n",
    "\n",
    "watched_userid = list(watched.keys())\n",
    "rec_userid = list(rec.keys())\n",
    "keep={}\n",
    "for key in rec_userid:\n",
    "    if key in watched_userid:\n",
    "        keep[key]=rec[key]\n",
    "\n",
    "##final recommendations      \n",
    "rec_m = np.array(list(keep.values()))"
   ]
  },
  {
   "cell_type": "code",
   "execution_count": 40,
   "metadata": {},
   "outputs": [
    {
     "data": {
      "text/html": [
       "<div>\n",
       "<style scoped>\n",
       "    .dataframe tbody tr th:only-of-type {\n",
       "        vertical-align: middle;\n",
       "    }\n",
       "\n",
       "    .dataframe tbody tr th {\n",
       "        vertical-align: top;\n",
       "    }\n",
       "\n",
       "    .dataframe thead th {\n",
       "        text-align: right;\n",
       "    }\n",
       "</style>\n",
       "<table border=\"1\" class=\"dataframe\">\n",
       "  <thead>\n",
       "    <tr style=\"text-align: right;\">\n",
       "      <th></th>\n",
       "      <th>0</th>\n",
       "      <th>1</th>\n",
       "      <th>2</th>\n",
       "      <th>3</th>\n",
       "      <th>4</th>\n",
       "      <th>5</th>\n",
       "      <th>6</th>\n",
       "      <th>7</th>\n",
       "      <th>8</th>\n",
       "      <th>9</th>\n",
       "    </tr>\n",
       "    <tr>\n",
       "      <th>userId</th>\n",
       "      <th></th>\n",
       "      <th></th>\n",
       "      <th></th>\n",
       "      <th></th>\n",
       "      <th></th>\n",
       "      <th></th>\n",
       "      <th></th>\n",
       "      <th></th>\n",
       "      <th></th>\n",
       "      <th></th>\n",
       "    </tr>\n",
       "  </thead>\n",
       "  <tbody>\n",
       "    <tr>\n",
       "      <th>0</th>\n",
       "      <td>2329</td>\n",
       "      <td>48780</td>\n",
       "      <td>150</td>\n",
       "      <td>1240</td>\n",
       "      <td>1682</td>\n",
       "      <td>70286</td>\n",
       "      <td>91500</td>\n",
       "      <td>8784</td>\n",
       "      <td>1228</td>\n",
       "      <td>428</td>\n",
       "    </tr>\n",
       "    <tr>\n",
       "      <th>1</th>\n",
       "      <td>2329</td>\n",
       "      <td>5669</td>\n",
       "      <td>1617</td>\n",
       "      <td>7438</td>\n",
       "      <td>72011</td>\n",
       "      <td>88125</td>\n",
       "      <td>4223</td>\n",
       "      <td>26614</td>\n",
       "      <td>8361</td>\n",
       "      <td>62956</td>\n",
       "    </tr>\n",
       "    <tr>\n",
       "      <th>2</th>\n",
       "      <td>48780</td>\n",
       "      <td>8361</td>\n",
       "      <td>70286</td>\n",
       "      <td>2329</td>\n",
       "      <td>7438</td>\n",
       "      <td>86347</td>\n",
       "      <td>26614</td>\n",
       "      <td>59784</td>\n",
       "      <td>1682</td>\n",
       "      <td>94864</td>\n",
       "    </tr>\n",
       "    <tr>\n",
       "      <th>3</th>\n",
       "      <td>69844</td>\n",
       "      <td>58156</td>\n",
       "      <td>922</td>\n",
       "      <td>4447</td>\n",
       "      <td>539</td>\n",
       "      <td>56079</td>\n",
       "      <td>6763</td>\n",
       "      <td>1682</td>\n",
       "      <td>95088</td>\n",
       "      <td>86298</td>\n",
       "    </tr>\n",
       "    <tr>\n",
       "      <th>4</th>\n",
       "      <td>196</td>\n",
       "      <td>61323</td>\n",
       "      <td>3082</td>\n",
       "      <td>8784</td>\n",
       "      <td>34150</td>\n",
       "      <td>72011</td>\n",
       "      <td>208</td>\n",
       "      <td>6870</td>\n",
       "      <td>1682</td>\n",
       "      <td>6218</td>\n",
       "    </tr>\n",
       "    <tr>\n",
       "      <th>...</th>\n",
       "      <td>...</td>\n",
       "      <td>...</td>\n",
       "      <td>...</td>\n",
       "      <td>...</td>\n",
       "      <td>...</td>\n",
       "      <td>...</td>\n",
       "      <td>...</td>\n",
       "      <td>...</td>\n",
       "      <td>...</td>\n",
       "      <td>...</td>\n",
       "    </tr>\n",
       "    <tr>\n",
       "      <th>2892</th>\n",
       "      <td>1682</td>\n",
       "      <td>1240</td>\n",
       "      <td>7438</td>\n",
       "      <td>1617</td>\n",
       "      <td>2329</td>\n",
       "      <td>72011</td>\n",
       "      <td>88125</td>\n",
       "      <td>3703</td>\n",
       "      <td>48780</td>\n",
       "      <td>3504</td>\n",
       "    </tr>\n",
       "    <tr>\n",
       "      <th>2893</th>\n",
       "      <td>70286</td>\n",
       "      <td>2329</td>\n",
       "      <td>7438</td>\n",
       "      <td>150</td>\n",
       "      <td>1617</td>\n",
       "      <td>61323</td>\n",
       "      <td>72011</td>\n",
       "      <td>434</td>\n",
       "      <td>3703</td>\n",
       "      <td>8361</td>\n",
       "    </tr>\n",
       "    <tr>\n",
       "      <th>2894</th>\n",
       "      <td>1240</td>\n",
       "      <td>70286</td>\n",
       "      <td>150</td>\n",
       "      <td>1682</td>\n",
       "      <td>1617</td>\n",
       "      <td>26614</td>\n",
       "      <td>88125</td>\n",
       "      <td>91500</td>\n",
       "      <td>69844</td>\n",
       "      <td>8371</td>\n",
       "    </tr>\n",
       "    <tr>\n",
       "      <th>2895</th>\n",
       "      <td>70286</td>\n",
       "      <td>1240</td>\n",
       "      <td>1617</td>\n",
       "      <td>954</td>\n",
       "      <td>2067</td>\n",
       "      <td>2407</td>\n",
       "      <td>47997</td>\n",
       "      <td>2329</td>\n",
       "      <td>26614</td>\n",
       "      <td>7346</td>\n",
       "    </tr>\n",
       "    <tr>\n",
       "      <th>2896</th>\n",
       "      <td>1682</td>\n",
       "      <td>6870</td>\n",
       "      <td>2579</td>\n",
       "      <td>2288</td>\n",
       "      <td>7438</td>\n",
       "      <td>150</td>\n",
       "      <td>2371</td>\n",
       "      <td>3361</td>\n",
       "      <td>6537</td>\n",
       "      <td>256</td>\n",
       "    </tr>\n",
       "  </tbody>\n",
       "</table>\n",
       "<p>2897 rows × 10 columns</p>\n",
       "</div>"
      ],
      "text/plain": [
       "            0      1      2     3      4      5      6      7      8      9\n",
       "userId                                                                     \n",
       "0        2329  48780    150  1240   1682  70286  91500   8784   1228    428\n",
       "1        2329   5669   1617  7438  72011  88125   4223  26614   8361  62956\n",
       "2       48780   8361  70286  2329   7438  86347  26614  59784   1682  94864\n",
       "3       69844  58156    922  4447    539  56079   6763   1682  95088  86298\n",
       "4         196  61323   3082  8784  34150  72011    208   6870   1682   6218\n",
       "...       ...    ...    ...   ...    ...    ...    ...    ...    ...    ...\n",
       "2892     1682   1240   7438  1617   2329  72011  88125   3703  48780   3504\n",
       "2893    70286   2329   7438   150   1617  61323  72011    434   3703   8361\n",
       "2894     1240  70286    150  1682   1617  26614  88125  91500  69844   8371\n",
       "2895    70286   1240   1617   954   2067   2407  47997   2329  26614   7346\n",
       "2896     1682   6870   2579  2288   7438    150   2371   3361   6537    256\n",
       "\n",
       "[2897 rows x 10 columns]"
      ]
     },
     "execution_count": 40,
     "metadata": {},
     "output_type": "execute_result"
    }
   ],
   "source": [
    "topn_rec = pd.DataFrame(rec_m)\n",
    "topn_rec.index.name = 'userId'\n",
    "topn_rec"
   ]
  },
  {
   "cell_type": "markdown",
   "metadata": {},
   "source": [
    "<a id='eval'></a>\n",
    "### Evaluations\n",
    "* 1st layver: Precision & Recall\n",
    "* 2nd layer: coverage"
   ]
  },
  {
   "cell_type": "code",
   "execution_count": 41,
   "metadata": {},
   "outputs": [
    {
     "name": "stdout",
     "output_type": "stream",
     "text": [
      "precision is 0.04493927125506009\n",
      "recall is 0.16386601953107188\n"
     ]
    }
   ],
   "source": [
    "precision = 0\n",
    "recall = 0\n",
    "for i in range(0,len(rec_m)):\n",
    "    R = set(rec_m[i])\n",
    "    W = set(watched_m[i])\n",
    "    u_precision = len(R.intersection(W))/len(R)\n",
    "    u_recall = len(R.intersection(W))/len(W)\n",
    "    \n",
    "    precision += u_precision\n",
    "    recall += u_recall\n",
    "    \n",
    "print('precision is', precision/len(watched_userid))\n",
    "print('recall is', recall/len(watched_userid))"
   ]
  },
  {
   "cell_type": "code",
   "execution_count": 43,
   "metadata": {},
   "outputs": [
    {
     "data": {
      "text/plain": [
       "0.7"
      ]
     },
     "execution_count": 43,
     "metadata": {},
     "output_type": "execute_result"
    }
   ],
   "source": [
    "coverage = len(set(rec_m.flatten()))/len(np.unique(test2['movieId']))\n",
    "coverage"
   ]
  },
  {
   "cell_type": "markdown",
   "metadata": {},
   "source": [
    "### Parameter Tuning: n = number of new movies to recommend"
   ]
  },
  {
   "cell_type": "code",
   "execution_count": 44,
   "metadata": {},
   "outputs": [
    {
     "ename": "KeyboardInterrupt",
     "evalue": "",
     "output_type": "error",
     "traceback": [
      "\u001b[0;31m---------------------------------------------------------------------------\u001b[0m",
      "\u001b[0;31mKeyboardInterrupt\u001b[0m                         Traceback (most recent call last)",
      "\u001b[0;32m<ipython-input-44-5073f0d402fb>\u001b[0m in \u001b[0;36m<module>\u001b[0;34m\u001b[0m\n\u001b[1;32m     15\u001b[0m         \u001b[0mkeep\u001b[0m\u001b[0;34m=\u001b[0m\u001b[0;34m{\u001b[0m\u001b[0;34m}\u001b[0m\u001b[0;34m\u001b[0m\u001b[0;34m\u001b[0m\u001b[0m\n\u001b[1;32m     16\u001b[0m         \u001b[0;32mfor\u001b[0m \u001b[0mkey\u001b[0m \u001b[0;32min\u001b[0m \u001b[0mrec_userid\u001b[0m\u001b[0;34m:\u001b[0m\u001b[0;34m\u001b[0m\u001b[0;34m\u001b[0m\u001b[0m\n\u001b[0;32m---> 17\u001b[0;31m             \u001b[0;32mif\u001b[0m \u001b[0mkey\u001b[0m \u001b[0;32min\u001b[0m \u001b[0mwatched_userid\u001b[0m\u001b[0;34m:\u001b[0m\u001b[0;34m\u001b[0m\u001b[0;34m\u001b[0m\u001b[0m\n\u001b[0m\u001b[1;32m     18\u001b[0m                 \u001b[0mkeep\u001b[0m\u001b[0;34m[\u001b[0m\u001b[0mkey\u001b[0m\u001b[0;34m]\u001b[0m\u001b[0;34m=\u001b[0m\u001b[0mrec\u001b[0m\u001b[0;34m[\u001b[0m\u001b[0mkey\u001b[0m\u001b[0;34m]\u001b[0m\u001b[0;34m\u001b[0m\u001b[0;34m\u001b[0m\u001b[0m\n\u001b[1;32m     19\u001b[0m \u001b[0;34m\u001b[0m\u001b[0m\n",
      "\u001b[0;31mKeyboardInterrupt\u001b[0m: "
     ]
    }
   ],
   "source": [
    "#visualized\n",
    "N_recommended_list = [5,10,15,20,25,30,35,40]\n",
    "precision = []\n",
    "recall = []\n",
    "coverage = []\n",
    "for n in N_recommended_list:\n",
    "    for i in ratings_for_rec.index:\n",
    "        row = ratings_for_rec.loc[i]\n",
    "        row_sorted = row.sort_values(ascending=False)[0:n]\n",
    "        m_ind = row_sorted.index\n",
    "        rec[i] = list(m_ind)\n",
    "        \n",
    "        watched_userid = list(watched.keys())\n",
    "        rec_userid = list(rec.keys())\n",
    "        keep={}\n",
    "        for key in rec_userid:\n",
    "            if key in watched_userid:\n",
    "                keep[key]=rec[key]\n",
    "\n",
    "        rec_m = np.array(list(keep.values()))\n",
    "        \n",
    "    precision_ = 0\n",
    "    recall_ = 0\n",
    "    for i in range(0,len(rec_m)):\n",
    "        R = set(rec_m[i])\n",
    "        W = set(watched_m[i])\n",
    "        u_precision = len(R.intersection(W))/len(R)\n",
    "        u_recall = len(R.intersection(W))/len(W)\n",
    "    \n",
    "        precision_ += u_precision\n",
    "        recall_ += u_recall\n",
    "    \n",
    "    precision.append(precision_/len(watched_userid))\n",
    "    recall.append(recall_/len(watched_userid))\n",
    "    #print('when n is:',n,'the precision is:',precision/len(watched_userid),'the recall is:', recall/len(watched_userid))\n",
    "    #print('the recall is:', recall/len(watched_userid))\n",
    "    coverage.append(len(set(rec_m.flatten()))/len(np.unique(test['movieId'])))\n",
    "    #print('when n is:',n,'the precision is:',precision,'the recall is:', recall,'the coverage is:',coverage)\n",
    "\n",
    "plt.figure(figsize=(10,5))\n",
    "plt.plot(N_recommended_list,coverage,label='coverage')\n",
    "plt.plot(N_recommended_list,recall,label='recall')\n",
    "plt.plot(N_recommended_list,precision,label='precision')\n",
    "plt.legend(loc='upper right', shadow=True, ncol=1)\n",
    "plt.show()"
   ]
  },
  {
   "cell_type": "code",
   "execution_count": null,
   "metadata": {},
   "outputs": [],
   "source": [
    "end = time.time()\n",
    "print(end-start)"
   ]
  },
  {
   "cell_type": "code",
   "execution_count": null,
   "metadata": {},
   "outputs": [],
   "source": []
  },
  {
   "cell_type": "code",
   "execution_count": null,
   "metadata": {},
   "outputs": [],
   "source": []
  }
 ],
 "metadata": {
  "kernelspec": {
   "display_name": "Python 3",
   "language": "python",
   "name": "python3"
  },
  "language_info": {
   "codemirror_mode": {
    "name": "ipython",
    "version": 3
   },
   "file_extension": ".py",
   "mimetype": "text/x-python",
   "name": "python",
   "nbconvert_exporter": "python",
   "pygments_lexer": "ipython3",
   "version": "3.7.3"
  }
 },
 "nbformat": 4,
 "nbformat_minor": 4
}
