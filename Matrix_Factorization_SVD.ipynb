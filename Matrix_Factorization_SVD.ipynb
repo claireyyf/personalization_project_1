{
 "cells": [
  {
   "cell_type": "markdown",
   "metadata": {},
   "source": []
  },
  {
   "cell_type": "code",
   "execution_count": 127,
   "metadata": {},
   "outputs": [],
   "source": [
    "import pandas as pd\n",
    "import numpy as np\n",
    "from sklearn.model_selection import train_test_split\n",
    "from sklearn.model_selection import KFold \n",
    "from scipy.sparse.linalg import svds\n",
    "import matplotlib.pyplot as plt\n",
    "import time\n",
    "%matplotlib inline"
   ]
  },
  {
   "cell_type": "markdown",
   "metadata": {},
   "source": [
    "# Initial filtering of the dataset \n",
    "## Result csv file exported for easier reference"
   ]
  },
  {
   "cell_type": "code",
   "execution_count": null,
   "metadata": {},
   "outputs": [],
   "source": [
    "# No need to run this cell, start from the next cell\n",
    "np.random.seed(1)\n",
    "ratings = pd.read_csv('ratings.csv')\n",
    "    \n",
    "    #keep only ratings from the most recent 5 years： 2010-2015\n",
    "ratings['year'] = ratings['timestamp'].apply(lambda x: date.fromtimestamp(x).year)\n",
    "ratings = ratings[ratings['year']>=date.fromisoformat('2010-01-01').year]\n",
    "ratings.drop(['timestamp','year'],axis=1,inplace=True) #'timestamp' and 'year' no longer useful \n",
    "    \n",
    "    #keep only movies with at least 20 ratings\n",
    "m_counts = ratings.groupby('movieId').size()\n",
    "m_index = m_counts[m_counts>=20].index\n",
    "ratings = ratings[ratings['movieId'].isin(m_index)]\n",
    "    \n",
    "    #keep only users who have rated at least 20 movies - consistent with original data\n",
    "u_counts = ratings.groupby('userId').size()\n",
    "u_index = u_counts[u_counts>=20].index\n",
    "ratings = ratings[ratings['userId'].isin(u_index)]\n",
    "    \n",
    "ratings.to_csv(\"sample_data_large.csv\")"
   ]
  },
  {
   "cell_type": "code",
   "execution_count": 293,
   "metadata": {},
   "outputs": [
    {
     "data": {
      "text/html": [
       "<div>\n",
       "<style scoped>\n",
       "    .dataframe tbody tr th:only-of-type {\n",
       "        vertical-align: middle;\n",
       "    }\n",
       "\n",
       "    .dataframe tbody tr th {\n",
       "        vertical-align: top;\n",
       "    }\n",
       "\n",
       "    .dataframe thead th {\n",
       "        text-align: right;\n",
       "    }\n",
       "</style>\n",
       "<table border=\"1\" class=\"dataframe\">\n",
       "  <thead>\n",
       "    <tr style=\"text-align: right;\">\n",
       "      <th></th>\n",
       "      <th>userId</th>\n",
       "      <th>movieId</th>\n",
       "      <th>rating</th>\n",
       "    </tr>\n",
       "  </thead>\n",
       "  <tbody>\n",
       "    <tr>\n",
       "      <th>0</th>\n",
       "      <td>25</td>\n",
       "      <td>21</td>\n",
       "      <td>3.5</td>\n",
       "    </tr>\n",
       "    <tr>\n",
       "      <th>1</th>\n",
       "      <td>25</td>\n",
       "      <td>22</td>\n",
       "      <td>4.0</td>\n",
       "    </tr>\n",
       "    <tr>\n",
       "      <th>2</th>\n",
       "      <td>25</td>\n",
       "      <td>31</td>\n",
       "      <td>3.0</td>\n",
       "    </tr>\n",
       "    <tr>\n",
       "      <th>3</th>\n",
       "      <td>25</td>\n",
       "      <td>32</td>\n",
       "      <td>3.5</td>\n",
       "    </tr>\n",
       "    <tr>\n",
       "      <th>4</th>\n",
       "      <td>25</td>\n",
       "      <td>39</td>\n",
       "      <td>4.5</td>\n",
       "    </tr>\n",
       "  </tbody>\n",
       "</table>\n",
       "</div>"
      ],
      "text/plain": [
       "   userId  movieId  rating\n",
       "0      25       21     3.5\n",
       "1      25       22     4.0\n",
       "2      25       31     3.0\n",
       "3      25       32     3.5\n",
       "4      25       39     4.5"
      ]
     },
     "execution_count": 293,
     "metadata": {},
     "output_type": "execute_result"
    }
   ],
   "source": [
    "sample=pd.read_csv(\"sample_data_large.csv\")\n",
    "sample.drop(['Unnamed: 0'],axis=1,inplace=True)\n",
    "sample.head()"
   ]
  },
  {
   "cell_type": "code",
   "execution_count": 294,
   "metadata": {},
   "outputs": [
    {
     "data": {
      "text/plain": [
       "(29080, 9359)"
      ]
     },
     "execution_count": 294,
     "metadata": {},
     "output_type": "execute_result"
    }
   ],
   "source": [
    "len(sample.userId.unique()), len(sample.movieId.unique())"
   ]
  },
  {
   "cell_type": "markdown",
   "metadata": {},
   "source": [
    "# Continue sampling\n",
    "\n",
    " Randomly select 5000 users, 500 movies\n",
    " \n",
    " Next, 10,000 users, 1000 movies"
   ]
  },
  {
   "cell_type": "code",
   "execution_count": 295,
   "metadata": {},
   "outputs": [],
   "source": [
    "user_size=5000\n",
    "movie_size=500\n",
    "\n",
    "np.random.seed(1)\n",
    "user_sample=np.random.choice(sample.userId.unique(),replace=False,size=user_size)\n",
    "movie_sample = np.random.choice(sample.movieId.unique(),replace = False,size = movie_size)\n",
    "sample = sample[sample['userId'].isin(user_sample)]\n",
    "sample = sample[sample['movieId'].isin(movie_sample)]"
   ]
  },
  {
   "cell_type": "code",
   "execution_count": 296,
   "metadata": {},
   "outputs": [
    {
     "name": "stdout",
     "output_type": "stream",
     "text": [
      "Number of users in the sample: 4536\n",
      "Number of movies in the sample: 496\n"
     ]
    }
   ],
   "source": [
    "print('Number of users in the sample:', len(sample.userId.unique()))\n",
    "print('Number of movies in the sample:', len(sample.movieId.unique()))"
   ]
  },
  {
   "cell_type": "code",
   "execution_count": null,
   "metadata": {},
   "outputs": [],
   "source": []
  },
  {
   "cell_type": "code",
   "execution_count": 264,
   "metadata": {},
   "outputs": [],
   "source": [
    "# train test split\n",
    "\n",
    "def get_train_test(sample_data, split, seed):\n",
    "    np.random.seed(seed)\n",
    "    sample = sample_data\n",
    "\n",
    "    train, test = train_test_split(sample, test_size=split)\n",
    "    \n",
    "    #check\n",
    "    print('number of users in train:',len(np.unique(train['userId'])))\n",
    "    print('number of movies in train:',len(np.unique(train['movieId'])))\n",
    "    print('number of users in test:', len(np.unique(test['userId'])))\n",
    "    print('number of movies in test:',len(np.unique(test['movieId'])))\n",
    "    \n",
    "    return train, test"
   ]
  },
  {
   "cell_type": "code",
   "execution_count": 297,
   "metadata": {},
   "outputs": [
    {
     "name": "stdout",
     "output_type": "stream",
     "text": [
      "number of users in train: 4222\n",
      "number of movies in train: 490\n",
      "number of users in test: 3211\n",
      "number of movies in test: 450\n"
     ]
    }
   ],
   "source": [
    "train, test = get_train_test(sample, 0.3, 1)"
   ]
  },
  {
   "cell_type": "markdown",
   "metadata": {},
   "source": [
    "# 5-Fold cross validation set up"
   ]
  },
  {
   "cell_type": "code",
   "execution_count": 298,
   "metadata": {},
   "outputs": [
    {
     "data": {
      "text/plain": [
       "[(array([    1,     2,     3, ..., 22900, 22901, 22902]),\n",
       "  array([    0,     4,     6, ..., 22889, 22892, 22895])),\n",
       " (array([    0,     1,     2, ..., 22900, 22901, 22902]),\n",
       "  array([    5,     8,    12, ..., 22894, 22897, 22898])),\n",
       " (array([    0,     1,     2, ..., 22898, 22901, 22902]),\n",
       "  array([   17,    36,    40, ..., 22888, 22899, 22900])),\n",
       " (array([    0,     4,     5, ..., 22899, 22900, 22901]),\n",
       "  array([    1,     2,     3, ..., 22893, 22896, 22902])),\n",
       " (array([    0,     1,     2, ..., 22899, 22900, 22902]),\n",
       "  array([   14,    15,    18, ..., 22882, 22885, 22901]))]"
      ]
     },
     "execution_count": 298,
     "metadata": {},
     "output_type": "execute_result"
    }
   ],
   "source": [
    "kf=KFold(5,shuffle=True,random_state=1)\n",
    "folds=list(kf.split(train))\n",
    "folds     \n",
    "#folds[0][0] contains the row numbers of data in the first train set, \n",
    "#folds[0][1] contains the row number of data in the first validation set"
   ]
  },
  {
   "cell_type": "markdown",
   "metadata": {},
   "source": [
    "# Evaluation\n",
    "Given a train set, a validation set (or test set), and the value of latent dimension, **get_metrics** returns the **precision**, **recall**, and **coverage** on the validation set (or test set)"
   ]
  },
  {
   "cell_type": "code",
   "execution_count": 267,
   "metadata": {},
   "outputs": [],
   "source": [
    "def get_metrics(train,validation,latent_dimension=50):\n",
    "    train_ratings = train.pivot(index = 'userId', columns ='movieId', values = 'rating').fillna(0) #matrix form\n",
    "    train_matrix=train_ratings.values      #turn into numpy nd array\n",
    "    train_u, train_sigma, train_v = svds(train_matrix, latent_dimension)\n",
    "    prediction_matrix=np.dot(train_u, train_v)      \n",
    "    prediction=pd.DataFrame(prediction_matrix, columns=train_ratings.columns)  #turn into dataframe\n",
    "\n",
    "    precision=0\n",
    "    recall=0\n",
    "    recommended_set=np.array([])\n",
    "    total_users=len(validation.userId.unique())\n",
    "    \n",
    "    train_ratings_index=train_ratings.reset_index()  #add new index & turn userId into a column for later\n",
    "    \n",
    "    for u_id in validation.userId.unique():\n",
    "        #find the row number for this user id\n",
    "        u_row_number = train_ratings_index[train_ratings_index['userId']==u_id].index[0]\n",
    "\n",
    "        #sorted predicted ratings for all the movies\n",
    "        u_sorted_prediction = prediction.iloc[u_row_number].sort_values(ascending=False)\n",
    "\n",
    "        # this user's ratings data in train set\n",
    "        user_data=train[train['userId']==u_id]\n",
    "\n",
    "        # top 10 recommended items (exclude movies already rated in the train set)\n",
    "        recommendation=u_sorted_prediction[u_sorted_prediction.index.isin(user_data.movieId.unique())==False][:10].index.values\n",
    "        \n",
    "        # this user's rated movies in the validation set (relevant items in test set)\n",
    "        consumed=validation[validation['userId']==u_id].movieId.unique()\n",
    "\n",
    "        S=set(recommendation)\n",
    "        G=set(consumed)\n",
    "        u_precision=len(S.intersection(G))/len(S)\n",
    "        u_recall=len(S.intersection(G))/len(G)\n",
    "\n",
    "        precision += u_precision\n",
    "        recall += u_recall\n",
    "        \n",
    "        recommended_set=np.concatenate((recommended_set,recommendation))\n",
    "        \n",
    "    precision=precision/total_users\n",
    "    recall=recall/total_users\n",
    "    coverage=len(np.unique(recommended_set))/len(validation.movieId.unique())\n",
    "    \n",
    "    return precision,recall,coverage"
   ]
  },
  {
   "cell_type": "markdown",
   "metadata": {},
   "source": [
    "Given the entire training data and the value of latent dimension, **get_metrics_from_cv** returns the precision and recall on the train set"
   ]
  },
  {
   "cell_type": "code",
   "execution_count": 273,
   "metadata": {},
   "outputs": [],
   "source": [
    "def get_metrics_from_cv(whole_train, latent_dimension=50):\n",
    "    kf=KFold(5,shuffle=True,random_state=1)\n",
    "    folds=list(kf.split(whole_train))\n",
    "    \n",
    "    precisions=[]\n",
    "    recalls=[]\n",
    "    coverages=[]\n",
    "\n",
    "    for i in range(5):\n",
    "        train_i=whole_train.iloc[folds[i][0],:]\n",
    "        validation_i=whole_train.iloc[folds[i][1],:]\n",
    "\n",
    "        #make sure that validation set does not have users or items that don't exist in the train set\n",
    "        users = train_i.userId.unique()\n",
    "        items = train_i.movieId.unique()\n",
    "        validation_i = validation_i[validation_i['userId'].isin(users)]\n",
    "        validation_i = validation_i[validation_i['movieId'].isin(items)]\n",
    "\n",
    "        precision_i, recall_i, coverage_i=get_metrics(train_i, validation_i, latent_dimension)\n",
    "        precisions.append(precision_i)\n",
    "        recalls.append(recall_i)\n",
    "        coverages.append(coverage_i)\n",
    "    \n",
    "    return np.mean(precisions), np.mean(recalls), np.mean(coverages)\n"
   ]
  },
  {
   "cell_type": "code",
   "execution_count": 282,
   "metadata": {},
   "outputs": [
    {
     "data": {
      "text/plain": [
       "(0.06378625955890986, 0.22390850021464104, 0.03268425554124059)"
      ]
     },
     "execution_count": 282,
     "metadata": {},
     "output_type": "execute_result"
    }
   ],
   "source": [
    "#let's see the performance of svd with default 50 latent dimension \n",
    "# get_metrics_from_cv(train, 50)"
   ]
  },
  {
   "cell_type": "code",
   "execution_count": null,
   "metadata": {},
   "outputs": [],
   "source": [
    "#start=time.time()"
   ]
  },
  {
   "cell_type": "code",
   "execution_count": 299,
   "metadata": {},
   "outputs": [
    {
     "name": "stdout",
     "output_type": "stream",
     "text": [
      "[0.06639339384702173, 0.06465390553142056, 0.058381358528566504, 0.05741703395215192, 0.054187046077479]\n",
      "[0.3410111510675803, 0.3283929684118256, 0.29372425486637077, 0.2905038277927015, 0.273236777903654]\n"
     ]
    }
   ],
   "source": [
    "latent_dimensions = [1,2,3,4,5]\n",
    "precisions_k=[]\n",
    "recalls_k=[]\n",
    "\n",
    "for k in latent_dimensions:\n",
    "    precision_k, recall_k, coverage_k = get_metrics_from_cv(train, k)\n",
    "    precisions_k.append(precision_k)\n",
    "    recalls_k.append(recall_k)\n",
    "    \n",
    "print(precisions_k)\n",
    "print(recalls_k)"
   ]
  },
  {
   "cell_type": "code",
   "execution_count": 300,
   "metadata": {},
   "outputs": [
    {
     "data": {
      "image/png": "[encoded data removed]",
      "text/plain": [
       "<Figure size 432x288 with 1 Axes>"
      ]
     },
     "metadata": {
      "needs_background": "light"
     },
     "output_type": "display_data"
    }
   ],
   "source": [
    "plt.plot(precisions_k)\n",
    "plt.ylabel('Precision')\n",
    "plt.xlabel('Latent Dimension')\n",
    "plt.show()"
   ]
  },
  {
   "cell_type": "code",
   "execution_count": 301,
   "metadata": {},
   "outputs": [
    {
     "data": {
      "image/png": "[encoded data removed]",
      "text/plain": [
       "<Figure size 432x288 with 1 Axes>"
      ]
     },
     "metadata": {
      "needs_background": "light"
     },
     "output_type": "display_data"
    }
   ],
   "source": [
    "plt.plot(recalls_k)\n",
    "plt.ylabel('Recall')\n",
    "plt.xlabel('Latent Dimension')\n",
    "plt.show()"
   ]
  },
  {
   "cell_type": "code",
   "execution_count": 302,
   "metadata": {},
   "outputs": [
    {
     "name": "stdout",
     "output_type": "stream",
     "text": [
      "Current Time = 13:26:32\n"
     ]
    }
   ],
   "source": [
    "# end=time.time()\n",
    "# runtime=end-start"
   ]
  },
  {
   "cell_type": "markdown",
   "metadata": {},
   "source": [
    "## Assess model performance on test set"
   ]
  },
  {
   "cell_type": "code",
   "execution_count": 303,
   "metadata": {},
   "outputs": [],
   "source": [
    "#make sure that the test set does not have users or movies that don't exist in the train set\n",
    "users = train.userId.unique()\n",
    "items = train.movieId.unique()\n",
    "test = test[test['userId'].isin(users)]\n",
    "test = test[test['movieId'].isin(items)]"
   ]
  },
  {
   "cell_type": "code",
   "execution_count": 304,
   "metadata": {},
   "outputs": [
    {
     "data": {
      "text/plain": [
       "(0.10324473593372518, 0.3423089657637019, 0.07223476297968397)"
      ]
     },
     "execution_count": 304,
     "metadata": {},
     "output_type": "execute_result"
    }
   ],
   "source": [
    "get_metrics(train, test,1)"
   ]
  },
  {
   "cell_type": "code",
   "execution_count": null,
   "metadata": {},
   "outputs": [],
   "source": []
  }
 ],
 "metadata": {
  "kernelspec": {
   "display_name": "Python 3",
   "language": "python",
   "name": "python3"
  },
  "language_info": {
   "codemirror_mode": {
    "name": "ipython",
    "version": 3
   },
   "file_extension": ".py",
   "mimetype": "text/x-python",
   "name": "python",
   "nbconvert_exporter": "python",
   "pygments_lexer": "ipython3",
   "version": "3.6.8"
  }
 },
 "nbformat": 4,
 "nbformat_minor": 2
}
