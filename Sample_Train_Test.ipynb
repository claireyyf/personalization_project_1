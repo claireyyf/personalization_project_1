{
 "cells": [
  {
   "cell_type": "code",
   "execution_count": 1,
   "metadata": {},
   "outputs": [],
   "source": [
    "import numpy as np\n",
    "import pandas as pd\n",
    "\n",
    "from datetime import date\n",
    "\n",
    "import matplotlib.pyplot as plt\n",
    "\n",
    "from sklearn.model_selection import train_test_split"
   ]
  },
  {
   "cell_type": "markdown",
   "metadata": {},
   "source": [
    "## Final Functions\n",
    "parameters:\n",
    "- sample size: N\n",
    "- seed for randomization\n",
    "- train-test split ratio"
   ]
  },
  {
   "cell_type": "code",
   "execution_count": 2,
   "metadata": {},
   "outputs": [],
   "source": [
    "## Note: csv_file is not included in the repo\n",
    "\n",
    "def get_sample(csv_file, N, seed):\n",
    "    np.random.seed(seed)\n",
    "    ratings = pd.read_csv(csv_file)\n",
    "    \n",
    "    #keep only ratings from the most recent 5 years： 2010-2015\n",
    "    ratings['year'] = ratings['timestamp'].apply(lambda x: date.fromtimestamp(x).year)\n",
    "    ratings = ratings[ratings['year']>=date.fromisoformat('2010-01-01').year]\n",
    "    ratings.drop(['timestamp','year'],axis=1,inplace=True) #'timestamp' and 'year' no longer useful \n",
    "    \n",
    "    #keep only movies with at least 20 ratings\n",
    "    m_counts = ratings.groupby('movieId').size()\n",
    "    m_index = m_counts[m_counts>=20].index\n",
    "    ratings = ratings[ratings['movieId'].isin(m_index)]\n",
    "    \n",
    "    #keep only users who have rated at least 20 movies - consistent with original data\n",
    "    u_counts = ratings.groupby('userId').size()\n",
    "    u_index = u_counts[u_counts>=20].index\n",
    "    ratings = ratings[ratings['userId'].isin(u_index)]\n",
    "    \n",
    "    #sample out N users\n",
    "    users = np.unique(ratings['userId'])\n",
    "    u_index_sample = np.random.choice(users, N)\n",
    "    sample = ratings[ratings['userId'].isin(u_index_sample)]\n",
    "    \n",
    "    #keep a percentage of ratings for each user: 30% -- lower variance\n",
    "    pct = pd.DataFrame(columns=['userId','movieId','rating'])\n",
    "    u_N, u_rating_count = np.unique(sample['userId'], return_counts=True)\n",
    "    \n",
    "    for i in range(len(u_N)):\n",
    "        u_id = u_N[i]\n",
    "        u_sample = sample[sample['userId']==u_id]\n",
    "        u_sample = u_sample[u_sample['movieId'].isin(np.random.choice(np.unique(u_sample['movieId']),\n",
    "                                                                      int(u_rating_count[i]*0.3)))]\n",
    "        pct = pct.append(u_sample)\n",
    "    \n",
    "    sample = pct\n",
    "    \n",
    "#     #plot data\n",
    "#     users_s, u_count_s = np.unique(sample['userId'], return_counts=True)\n",
    "#     plt.plot(np.arange(1, len(users_s)+1), sorted(sample.groupby('userId').size(), reverse=True))\n",
    "#     plt.xlabel('number of users')\n",
    "#     plt.ylabel('number of rated movies')\n",
    "#     plt.show()\n",
    "    \n",
    "    print('number of unique users:', len(np.unique(sample['userId'])))\n",
    "    print('number of unique movies:', len(np.unique(sample['movieId'])))\n",
    "    \n",
    "    return sample\n"
   ]
  },
  {
   "cell_type": "code",
   "execution_count": 3,
   "metadata": {},
   "outputs": [
    {
     "name": "stdout",
     "output_type": "stream",
     "text": [
      "number of unique users: 494\n",
      "number of unique movies: 4191\n"
     ]
    }
   ],
   "source": [
    "sample = get_sample('ratings.csv', 500, 1)"
   ]
  },
  {
   "cell_type": "code",
   "execution_count": 4,
   "metadata": {},
   "outputs": [
    {
     "data": {
      "text/html": [
       "<div>\n",
       "<style scoped>\n",
       "    .dataframe tbody tr th:only-of-type {\n",
       "        vertical-align: middle;\n",
       "    }\n",
       "\n",
       "    .dataframe tbody tr th {\n",
       "        vertical-align: top;\n",
       "    }\n",
       "\n",
       "    .dataframe thead th {\n",
       "        text-align: right;\n",
       "    }\n",
       "</style>\n",
       "<table border=\"1\" class=\"dataframe\">\n",
       "  <thead>\n",
       "    <tr style=\"text-align: right;\">\n",
       "      <th></th>\n",
       "      <th>userId</th>\n",
       "      <th>movieId</th>\n",
       "      <th>rating</th>\n",
       "    </tr>\n",
       "  </thead>\n",
       "  <tbody>\n",
       "    <tr>\n",
       "      <th>10993</th>\n",
       "      <td>99</td>\n",
       "      <td>1</td>\n",
       "      <td>4.0</td>\n",
       "    </tr>\n",
       "    <tr>\n",
       "      <th>10999</th>\n",
       "      <td>99</td>\n",
       "      <td>480</td>\n",
       "      <td>3.0</td>\n",
       "    </tr>\n",
       "    <tr>\n",
       "      <th>11011</th>\n",
       "      <td>99</td>\n",
       "      <td>1261</td>\n",
       "      <td>4.0</td>\n",
       "    </tr>\n",
       "    <tr>\n",
       "      <th>11015</th>\n",
       "      <td>99</td>\n",
       "      <td>2454</td>\n",
       "      <td>3.0</td>\n",
       "    </tr>\n",
       "    <tr>\n",
       "      <th>11020</th>\n",
       "      <td>99</td>\n",
       "      <td>2959</td>\n",
       "      <td>5.0</td>\n",
       "    </tr>\n",
       "  </tbody>\n",
       "</table>\n",
       "</div>"
      ],
      "text/plain": [
       "      userId movieId  rating\n",
       "10993     99       1     4.0\n",
       "10999     99     480     3.0\n",
       "11011     99    1261     4.0\n",
       "11015     99    2454     3.0\n",
       "11020     99    2959     5.0"
      ]
     },
     "execution_count": 4,
     "metadata": {},
     "output_type": "execute_result"
    }
   ],
   "source": [
    "sample.head()"
   ]
  },
  {
   "cell_type": "code",
   "execution_count": 5,
   "metadata": {},
   "outputs": [],
   "source": [
    "\"\"\"Save Sample Data File for Reference When Needed\"\"\"\n",
    "sample.to_csv('sample_data.csv')"
   ]
  },
  {
   "cell_type": "code",
   "execution_count": 6,
   "metadata": {},
   "outputs": [],
   "source": [
    "def get_train_test(sample_data, split, seed):\n",
    "    np.random.seed(seed)\n",
    "    sample = sample_data\n",
    "    \n",
    "    #if starting with csv file\n",
    "#     sample = pd.read_csv(sample_data)\n",
    "#     sample.drop(['Unnamed: 0'],axis=1,inplace=True)\n",
    "    \n",
    "    train, test = train_test_split(sample, test_size=split)\n",
    "    \n",
    "    #check\n",
    "    print('number of users in train:',len(np.unique(train['userId'])))\n",
    "    print('number of movies in train:',len(np.unique(train['movieId'])))\n",
    "    print('number of users in test:', len(np.unique(test['userId'])))\n",
    "    print('number of movies in test:',len(np.unique(test['movieId'])))\n",
    "    \n",
    "    return train, test\n",
    "    "
   ]
  },
  {
   "cell_type": "code",
   "execution_count": 7,
   "metadata": {},
   "outputs": [
    {
     "name": "stdout",
     "output_type": "stream",
     "text": [
      "number of users in train: 494\n",
      "number of movies in train: 3599\n",
      "number of users in test: 469\n",
      "number of movies in test: 2288\n"
     ]
    }
   ],
   "source": [
    "train, test = get_train_test(sample, 0.3, 1)"
   ]
  },
  {
   "cell_type": "code",
   "execution_count": 8,
   "metadata": {},
   "outputs": [
    {
     "data": {
      "text/html": [
       "<div>\n",
       "<style scoped>\n",
       "    .dataframe tbody tr th:only-of-type {\n",
       "        vertical-align: middle;\n",
       "    }\n",
       "\n",
       "    .dataframe tbody tr th {\n",
       "        vertical-align: top;\n",
       "    }\n",
       "\n",
       "    .dataframe thead th {\n",
       "        text-align: right;\n",
       "    }\n",
       "</style>\n",
       "<table border=\"1\" class=\"dataframe\">\n",
       "  <thead>\n",
       "    <tr style=\"text-align: right;\">\n",
       "      <th></th>\n",
       "      <th>userId</th>\n",
       "      <th>movieId</th>\n",
       "      <th>rating</th>\n",
       "    </tr>\n",
       "  </thead>\n",
       "  <tbody>\n",
       "    <tr>\n",
       "      <th>18431191</th>\n",
       "      <td>127563</td>\n",
       "      <td>2571</td>\n",
       "      <td>1.5</td>\n",
       "    </tr>\n",
       "    <tr>\n",
       "      <th>8849191</th>\n",
       "      <td>61141</td>\n",
       "      <td>4246</td>\n",
       "      <td>5.0</td>\n",
       "    </tr>\n",
       "    <tr>\n",
       "      <th>11824579</th>\n",
       "      <td>81598</td>\n",
       "      <td>6539</td>\n",
       "      <td>5.0</td>\n",
       "    </tr>\n",
       "    <tr>\n",
       "      <th>7872978</th>\n",
       "      <td>54261</td>\n",
       "      <td>4973</td>\n",
       "      <td>5.0</td>\n",
       "    </tr>\n",
       "    <tr>\n",
       "      <th>6901525</th>\n",
       "      <td>47543</td>\n",
       "      <td>68554</td>\n",
       "      <td>3.0</td>\n",
       "    </tr>\n",
       "  </tbody>\n",
       "</table>\n",
       "</div>"
      ],
      "text/plain": [
       "          userId movieId  rating\n",
       "18431191  127563    2571     1.5\n",
       "8849191    61141    4246     5.0\n",
       "11824579   81598    6539     5.0\n",
       "7872978    54261    4973     5.0\n",
       "6901525    47543   68554     3.0"
      ]
     },
     "execution_count": 8,
     "metadata": {},
     "output_type": "execute_result"
    }
   ],
   "source": [
    "train.head()"
   ]
  },
  {
   "cell_type": "markdown",
   "metadata": {},
   "source": [
    "## Process"
   ]
  },
  {
   "cell_type": "code",
   "execution_count": null,
   "metadata": {},
   "outputs": [],
   "source": [
    "ratings = pd.read_csv('ratings.csv')\n",
    "# ratings.drop(['timestamp'],axis=1,inplace=True)\n",
    "ratings.head()"
   ]
  },
  {
   "cell_type": "code",
   "execution_count": null,
   "metadata": {},
   "outputs": [],
   "source": [
    "ratings['year'] = ratings['timestamp'].apply(lambda x: date.fromtimestamp(x).year)\n",
    "# ratings.sort_values('datetime', ascending=False, inplace=True)"
   ]
  },
  {
   "cell_type": "code",
   "execution_count": null,
   "metadata": {},
   "outputs": [],
   "source": [
    "ratings.head()"
   ]
  },
  {
   "cell_type": "code",
   "execution_count": null,
   "metadata": {},
   "outputs": [],
   "source": [
    "ratings.groupby('year').size()"
   ]
  },
  {
   "cell_type": "code",
   "execution_count": null,
   "metadata": {},
   "outputs": [],
   "source": [
    "ratings = ratings[ratings['year']>=date.fromisoformat('2010-01-01').year]\n",
    "print(ratings.shape)\n",
    "print(ratings.head())\n",
    "ratings.groupby('year').size()"
   ]
  },
  {
   "cell_type": "code",
   "execution_count": null,
   "metadata": {},
   "outputs": [],
   "source": [
    "ratings.drop(['timestamp','year'],axis=1,inplace=True)\n",
    "ratings.head()"
   ]
  },
  {
   "cell_type": "code",
   "execution_count": null,
   "metadata": {},
   "outputs": [],
   "source": [
    "users, u_count = np.unique(ratings_1015['userId'], return_counts=True)\n",
    "print(len(users))\n",
    "movies, m_count = np.unique(ratings_1015['movieId'], return_counts=True)\n",
    "print(len(movies))"
   ]
  },
  {
   "cell_type": "code",
   "execution_count": null,
   "metadata": {},
   "outputs": [],
   "source": [
    "#check for movie counts\n",
    "counts = ratings.groupby('movieId').size()\n",
    "counts.describe()"
   ]
  },
  {
   "cell_type": "code",
   "execution_count": null,
   "metadata": {},
   "outputs": [],
   "source": [
    "#remove movies with less than 20 ratings - too few ratings are meaningless\n",
    "m_index = counts[counts>=20].index\n",
    "ratings = ratings[ratings['movieId'].isin(m_index)]\n",
    "ratings.head()"
   ]
  },
  {
   "cell_type": "code",
   "execution_count": null,
   "metadata": {},
   "outputs": [],
   "source": [
    "#check for movie counts\n",
    "counts = ratings.groupby('movieId').size()\n",
    "counts.describe()"
   ]
  },
  {
   "cell_type": "code",
   "execution_count": null,
   "metadata": {},
   "outputs": [],
   "source": [
    "#check for user counts\n",
    "ratings.groupby('userId').size().describe()"
   ]
  },
  {
   "cell_type": "code",
   "execution_count": null,
   "metadata": {},
   "outputs": [],
   "source": [
    "#mostly above 20 ratings\n",
    "u_counts = ratings.groupby('userId').size()\n",
    "u_index = u_counts[u_counts>=20].index\n",
    "ratings = ratings[ratings['userId'].isin(u_index)]\n",
    "print(ratings.shape)"
   ]
  },
  {
   "cell_type": "code",
   "execution_count": null,
   "metadata": {},
   "outputs": [],
   "source": [
    "#down from 30773 to 29080 - still adequate\n",
    "users = np.unique(ratings['userId'])\n",
    "print(len(users))\n",
    "movies = np.unique(ratings['movieId'])\n",
    "print(len(movies))"
   ]
  },
  {
   "cell_type": "code",
   "execution_count": null,
   "metadata": {},
   "outputs": [],
   "source": [
    "# testing = ratings_1015.drop(['timestamp','datetime'],axis=1)\n",
    "# testing.head()"
   ]
  },
  {
   "cell_type": "code",
   "execution_count": null,
   "metadata": {},
   "outputs": [],
   "source": [
    "np.random.seed(1)\n",
    "u_index_sample = np.random.choice(users,50)\n",
    "print(len(u_index_sample))\n",
    "sample = ratings[ratings['userId'].isin(u_index_sample)]"
   ]
  },
  {
   "cell_type": "code",
   "execution_count": null,
   "metadata": {},
   "outputs": [],
   "source": [
    "len(np.unique(sample['userId']))"
   ]
  },
  {
   "cell_type": "code",
   "execution_count": null,
   "metadata": {},
   "outputs": [],
   "source": [
    "sample.head()"
   ]
  },
  {
   "cell_type": "code",
   "execution_count": null,
   "metadata": {},
   "outputs": [],
   "source": [
    "users_sample, u_count_sample = np.unique(sample['userId'], return_counts=True)\n",
    "print(len(users_sample))\n",
    "movies_sample, m_count_sample = np.unique(sample['movieId'], return_counts=True)\n",
    "print(len(movies_sample))"
   ]
  },
  {
   "cell_type": "code",
   "execution_count": null,
   "metadata": {},
   "outputs": [],
   "source": [
    "sample.groupby('userId').count().sort_values('movieId',ascending=False)"
   ]
  },
  {
   "cell_type": "code",
   "execution_count": null,
   "metadata": {},
   "outputs": [],
   "source": [
    "plt.plot(np.arange(1, len(users_sample)+1), sorted(sample.groupby('userId').size(), reverse=True))\n",
    "plt.xlabel('users')\n",
    "plt.ylabel('number of rated movies')\n",
    "plt.show()"
   ]
  },
  {
   "cell_type": "code",
   "execution_count": null,
   "metadata": {},
   "outputs": [],
   "source": [
    "pct1 = pd.DataFrame(columns=['userId','movieId','rating'])\n",
    "u_N, u_rating_count = np.unique(sample['userId'], return_counts=True)"
   ]
  },
  {
   "cell_type": "code",
   "execution_count": null,
   "metadata": {},
   "outputs": [],
   "source": [
    "for i in range(len(u_N)):\n",
    "    u_id = u_N[i]\n",
    "    u_sample = sample[sample['userId']==u_id]\n",
    "    u_sample = u_sample[u_sample['movieId'].isin(np.random.choice(np.unique(u_sample['movieId']),\n",
    "                                                                  int(u_rating_count[i]*0.1)))]\n",
    "    pct1 = pct1.append(u_sample)"
   ]
  },
  {
   "cell_type": "code",
   "execution_count": null,
   "metadata": {},
   "outputs": [],
   "source": [
    "print(len(pct['userId'].unique()))\n",
    "print(len(pct['movieId'].unique()))"
   ]
  },
  {
   "cell_type": "code",
   "execution_count": null,
   "metadata": {},
   "outputs": [],
   "source": [
    "#keep 50%\n",
    "pct.groupby('movieId').size().describe()"
   ]
  },
  {
   "cell_type": "code",
   "execution_count": null,
   "metadata": {},
   "outputs": [],
   "source": [
    "#keep 30%\n",
    "pct3.groupby('movieId').size().describe()"
   ]
  },
  {
   "cell_type": "code",
   "execution_count": null,
   "metadata": {},
   "outputs": [],
   "source": [
    "pct3.groupby('userId').size().describe()"
   ]
  },
  {
   "cell_type": "code",
   "execution_count": null,
   "metadata": {},
   "outputs": [],
   "source": [
    "#keep 10%\n",
    "pct1.groupby('movieId').size().describe()"
   ]
  },
  {
   "cell_type": "code",
   "execution_count": null,
   "metadata": {},
   "outputs": [],
   "source": [
    "sample.groupby('movieId').size().describe()"
   ]
  },
  {
   "cell_type": "markdown",
   "metadata": {},
   "source": [
    "### Train Test Split"
   ]
  },
  {
   "cell_type": "code",
   "execution_count": null,
   "metadata": {},
   "outputs": [],
   "source": [
    "# _50p = sample.groupby('userId').size().describe()[5]\n",
    "# _50p\n",
    "sample.groupby('userId').size().describe()"
   ]
  },
  {
   "cell_type": "code",
   "execution_count": null,
   "metadata": {},
   "outputs": [],
   "source": [
    "#no longer needed to set a minimum threshold\n",
    "# print(len(users3),len(users3[u_count3<_50p]))\n",
    "# user_train_ind = users3[u_count3<_50p]\n",
    "# user_train_ind2 = users3[u_count3>=_50p]\n",
    "# train1 = sample[sample['userId'].isin(user_train_ind)]"
   ]
  },
  {
   "cell_type": "code",
   "execution_count": null,
   "metadata": {},
   "outputs": [],
   "source": [
    "# train1"
   ]
  },
  {
   "cell_type": "code",
   "execution_count": null,
   "metadata": {},
   "outputs": [],
   "source": [
    "# train, test = train_test_split(sample[sample['userId'].isin(user_train_ind2)], test_size = 0.3)\n",
    "train, test = train_test_split(sample, test_size = 0.3)"
   ]
  },
  {
   "cell_type": "code",
   "execution_count": null,
   "metadata": {},
   "outputs": [],
   "source": [
    "# train = train1.append(train2)"
   ]
  },
  {
   "cell_type": "code",
   "execution_count": null,
   "metadata": {},
   "outputs": [],
   "source": [
    "print(len(np.unique(sample['userId'])))\n",
    "print(len(np.unique(sample['movieId'])))\n",
    "sample.shape"
   ]
  },
  {
   "cell_type": "code",
   "execution_count": null,
   "metadata": {},
   "outputs": [],
   "source": [
    "print(len(np.unique(train['userId'])))\n",
    "print(len(np.unique(train['movieId'])))\n",
    "train.shape"
   ]
  },
  {
   "cell_type": "code",
   "execution_count": null,
   "metadata": {},
   "outputs": [],
   "source": [
    "print(len(np.unique(test['userId'])))\n",
    "print(len(np.unique(test['movieId'])))\n",
    "test.shape"
   ]
  },
  {
   "cell_type": "code",
   "execution_count": null,
   "metadata": {},
   "outputs": [],
   "source": []
  }
 ],
 "metadata": {
  "kernelspec": {
   "display_name": "Python 3",
   "language": "python",
   "name": "python3"
  },
  "language_info": {
   "codemirror_mode": {
    "name": "ipython",
    "version": 3
   },
   "file_extension": ".py",
   "mimetype": "text/x-python",
   "name": "python",
   "nbconvert_exporter": "python",
   "pygments_lexer": "ipython3",
   "version": "3.7.3"
  }
 },
 "nbformat": 4,
 "nbformat_minor": 4
}
