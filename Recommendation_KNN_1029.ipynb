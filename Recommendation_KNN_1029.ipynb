{
 "cells": [
  {
   "cell_type": "code",
   "execution_count": 5,
   "metadata": {},
   "outputs": [],
   "source": [
    "import numpy as np\n",
    "import pandas as pd\n",
    "from datetime import date\n",
    "\n",
    "import matplotlib.pyplot as plt\n",
    "\n",
    "from sklearn.model_selection import train_test_split\n",
    "from sklearn.neighbors import NearestNeighbors\n",
    "from sklearn.metrics import mean_squared_error\n",
    "from math import sqrt\n"
   ]
  },
  {
   "cell_type": "markdown",
   "metadata": {},
   "source": [
    "# Final Functions\n",
    "parameters:\n",
    "- sample size: N\n",
    "- seed for randomization\n",
    "- train-test split ratio"
   ]
  },
  {
   "cell_type": "code",
   "execution_count": 30,
   "metadata": {},
   "outputs": [],
   "source": [
    "## Note: csv_file is not included in the repo\n",
    "\n",
    "def get_sample(csv_file, N, seed):\n",
    "    np.random.seed(seed)\n",
    "    df = pd.read_csv(csv_file)\n",
    "    \n",
    "    #keep only ratings from the most recent 5 years： 2010-2015\n",
    "    df['datetime'] = df['timestamp'].apply(lambda x: date.fromtimestamp(x))\n",
    "    df['year'] = df['timestamp'].apply(lambda x: date.fromtimestamp(x).year)\n",
    "    df = df[df['year']>=date.fromisoformat('2010-01-01').year]\n",
    "    df.drop(['timestamp','year'],axis=1,inplace=True) #'timestamp' and 'year' no longer useful \n",
    "    \n",
    "    #keep only movies with at least 20 ratings\n",
    "    m_counts = df.groupby('movieId').size()\n",
    "    m_index = m_counts[m_counts>=20].index\n",
    "    df = df[df['movieId'].isin(m_index)]\n",
    "    \n",
    "    #keep only users who have rated at least 20 movies - consistent with original data\n",
    "    u_counts = df.groupby('userId').size()\n",
    "    u_index = u_counts[u_counts>=20].index\n",
    "    df = df[df['userId'].isin(u_index)]\n",
    "    \n",
    "    #sample out N users\n",
    "    users = np.unique(df['userId'])\n",
    "    u_index_sample = np.random.choice(users, N)\n",
    "    sample = df[df['userId'].isin(u_index_sample)]\n",
    "    \n",
    "#     #plot data\n",
    "#     users_s, u_count_s = np.unique(sample['userId'], return_counts=True)\n",
    "#     plt.plot(np.arange(1, len(users_s)+1), sorted(sample.groupby('userId').size(), reverse=True))\n",
    "#     plt.xlabel('number of users')\n",
    "#     plt.ylabel('number of rated movies')\n",
    "#     plt.show()\n",
    "    \n",
    "    print('number of unique users:', len(np.unique(sample['userId'])))\n",
    "    print('number of unique movies:', len(np.unique(sample['movieId'])))\n",
    "    \n",
    "    return sample\n"
   ]
  },
  {
   "cell_type": "code",
   "execution_count": 34,
   "metadata": {},
   "outputs": [],
   "source": [
    "def get_train_test(sample_data, split, seed):\n",
    "    np.random.seed(seed)\n",
    "    sample = pd.read_csv(sample_data)\n",
    "    sample.drop(['Unnamed: 0'],axis=1,inplace=True) #original index no longer necessary\n",
    "    \n",
    "    train, test = train_test_split(sample, test_size=split)\n",
    "    \n",
    "    #check\n",
    "    print('number of users in train:',len(np.unique(train['userId'])))\n",
    "    print('number of movies in train:',len(np.unique(train['movieId'])))\n",
    "    print('number of users in test:', len(np.unique(test['userId'])))\n",
    "    print('number of movies in test:',len(np.unique(test['movieId'])))\n",
    "    \n",
    "    return train, test\n",
    "    "
   ]
  },
  {
   "cell_type": "code",
   "execution_count": 33,
   "metadata": {},
   "outputs": [
    {
     "data": {
      "image/png": "[encoded data removed]",
      "text/plain": [
       "<Figure size 432x288 with 1 Axes>"
      ]
     },
     "metadata": {
      "needs_background": "light"
     },
     "output_type": "display_data"
    },
    {
     "name": "stdout",
     "output_type": "stream",
     "text": [
      "number of unique users: 500\n",
      "number of unique movies: 3655\n",
      "number of users in train: 500\n",
      "number of users in test: 251\n"
     ]
    }
   ],
   "source": [
    "small_sample = get_sample('ratings.csv', 500, 10)\n",
    "train, test = get_train_test(small_sample, 10, 0.3)"
   ]
  },
  {
   "cell_type": "markdown",
   "metadata": {},
   "source": [
    "# Item-based Collaborative Filtering\n",
    "\n",
    "- create matrix \n",
    "- train model \n",
    "- make prediction\n",
    "- evaluation "
   ]
  },
  {
   "cell_type": "markdown",
   "metadata": {},
   "source": [
    "### Prediction & Evaluation"
   ]
  },
  {
   "cell_type": "markdown",
   "metadata": {},
   "source": [
    "### prediction1"
   ]
  },
  {
   "cell_type": "code",
   "execution_count": 14,
   "metadata": {},
   "outputs": [],
   "source": [
    "# calculate adjusted ratings based on training data\n",
    "rating_mean= train.groupby(['movieId'], as_index = False, sort = False).mean().rename(columns = {'rating': 'rating_mean'})[['movieId','rating_mean']]\n",
    "adjusted_ratings = pd.merge(train,rating_mean,on = 'movieId', how = 'left', sort = False)\n",
    "adjusted_ratings['rating_adjusted']=adjusted_ratings['rating']-adjusted_ratings['rating_mean']\n",
    "# replace 0 adjusted rating values to 1*e-8 in order to avoid 0 denominator\n",
    "adjusted_ratings.loc[adjusted_ratings['rating_adjusted'] == 0, 'rating_adjusted'] = 1e-8"
   ]
  },
  {
   "cell_type": "code",
   "execution_count": 13,
   "metadata": {},
   "outputs": [
    {
     "data": {
      "text/html": [
       "<div>\n",
       "<style scoped>\n",
       "    .dataframe tbody tr th:only-of-type {\n",
       "        vertical-align: middle;\n",
       "    }\n",
       "\n",
       "    .dataframe tbody tr th {\n",
       "        vertical-align: top;\n",
       "    }\n",
       "\n",
       "    .dataframe thead th {\n",
       "        text-align: right;\n",
       "    }\n",
       "</style>\n",
       "<table border=\"1\" class=\"dataframe\">\n",
       "  <thead>\n",
       "    <tr style=\"text-align: right;\">\n",
       "      <th></th>\n",
       "      <th>userId</th>\n",
       "      <th>movieId</th>\n",
       "      <th>rating</th>\n",
       "    </tr>\n",
       "  </thead>\n",
       "  <tbody>\n",
       "    <tr>\n",
       "      <th>348931</th>\n",
       "      <td>2355</td>\n",
       "      <td>6</td>\n",
       "      <td>4.0</td>\n",
       "    </tr>\n",
       "    <tr>\n",
       "      <th>348932</th>\n",
       "      <td>2355</td>\n",
       "      <td>16</td>\n",
       "      <td>3.0</td>\n",
       "    </tr>\n",
       "    <tr>\n",
       "      <th>348933</th>\n",
       "      <td>2355</td>\n",
       "      <td>21</td>\n",
       "      <td>4.0</td>\n",
       "    </tr>\n",
       "    <tr>\n",
       "      <th>348934</th>\n",
       "      <td>2355</td>\n",
       "      <td>25</td>\n",
       "      <td>4.0</td>\n",
       "    </tr>\n",
       "    <tr>\n",
       "      <th>348935</th>\n",
       "      <td>2355</td>\n",
       "      <td>32</td>\n",
       "      <td>5.0</td>\n",
       "    </tr>\n",
       "  </tbody>\n",
       "</table>\n",
       "</div>"
      ],
      "text/plain": [
       "        userId  movieId  rating\n",
       "348931    2355        6     4.0\n",
       "348932    2355       16     3.0\n",
       "348933    2355       21     4.0\n",
       "348934    2355       25     4.0\n",
       "348935    2355       32     5.0"
      ]
     },
     "execution_count": 13,
     "metadata": {},
     "output_type": "execute_result"
    }
   ],
   "source": [
    "train.head()"
   ]
  },
  {
   "cell_type": "code",
   "execution_count": 14,
   "metadata": {},
   "outputs": [
    {
     "name": "stdout",
     "output_type": "stream",
     "text": [
      "(47287, 3)\n",
      "(16284, 3)\n"
     ]
    },
    {
     "name": "stderr",
     "output_type": "stream",
     "text": [
      "/Users/estelle/anaconda3/lib/python3.7/site-packages/ipykernel_launcher.py:2: FutureWarning: Method .as_matrix will be removed in a future version. Use .values instead.\n",
      "  \n",
      "/Users/estelle/anaconda3/lib/python3.7/site-packages/ipykernel_launcher.py:3: FutureWarning: Method .as_matrix will be removed in a future version. Use .values instead.\n",
      "  This is separate from the ipykernel package so we can avoid doing imports until\n"
     ]
    }
   ],
   "source": [
    "# Create two user-item matrices, one for training and another for testing\n",
    "train_data_matrix = train.as_matrix(columns = ['userId', 'movieId', 'rating'])\n",
    "test_data_matrix = test.as_matrix(columns = ['userId', 'movieId', 'rating'])\n",
    "\n",
    "# Check their shape\n",
    "print(train_data_matrix.shape)\n",
    "print(test_data_matrix.shape)"
   ]
  },
  {
   "cell_type": "code",
   "execution_count": 15,
   "metadata": {},
   "outputs": [
    {
     "data": {
      "text/plain": [
       "array([[2.3550e+03, 6.0000e+00, 4.0000e+00],\n",
       "       [2.3550e+03, 1.6000e+01, 3.0000e+00],\n",
       "       [2.3550e+03, 2.1000e+01, 4.0000e+00],\n",
       "       ...,\n",
       "       [7.4776e+04, 2.3400e+02, 2.0000e+00],\n",
       "       [9.8827e+04, 3.2130e+03, 4.0000e+00],\n",
       "       [5.1596e+04, 2.6000e+02, 2.5000e+00]])"
      ]
     },
     "execution_count": 15,
     "metadata": {},
     "output_type": "execute_result"
    }
   ],
   "source": [
    "train_data_matrix"
   ]
  },
  {
   "cell_type": "code",
   "execution_count": 16,
   "metadata": {},
   "outputs": [
    {
     "data": {
      "text/plain": [
       "array([[5.82700e+04, 4.51860e+04, 4.50000e+00],\n",
       "       [6.86950e+04, 2.99500e+03, 2.00000e+00],\n",
       "       [1.20046e+05, 1.61000e+02, 4.00000e+00],\n",
       "       ...,\n",
       "       [6.99880e+04, 2.29100e+03, 4.00000e+00],\n",
       "       [7.43560e+04, 1.95700e+03, 4.00000e+00],\n",
       "       [3.50800e+03, 2.40600e+03, 2.00000e+00]])"
      ]
     },
     "execution_count": 16,
     "metadata": {},
     "output_type": "execute_result"
    }
   ],
   "source": [
    "test_data_matrix"
   ]
  },
  {
   "cell_type": "code",
   "execution_count": 22,
   "metadata": {},
   "outputs": [
    {
     "name": "stdout",
     "output_type": "stream",
     "text": [
      "[[ 1.00000000e+00 -3.13134289e-04 -3.55561203e-02]\n",
      " [-3.13134289e-04  1.00000000e+00  2.98671925e-02]\n",
      " [-3.55561203e-02  2.98671925e-02  1.00000000e+00]]\n"
     ]
    }
   ],
   "source": [
    "from sklearn.metrics.pairwise import pairwise_distances\n",
    "# Item Similarity Matrix\n",
    "item_correlation = 1 - pairwise_distances(train_data_matrix.T, metric='correlation')\n",
    "item_correlation[np.isnan(item_correlation)] = 0\n"
   ]
  },
  {
   "cell_type": "code",
   "execution_count": 29,
   "metadata": {},
   "outputs": [],
   "source": [
    "def predict(ratings, similarity):\n",
    "    pred = ratings.dot(similarity) / np.array([np.abs(similarity).sum(axis=1)])\n",
    "    return pred\n",
    "\n",
    "# Function to calculate RMSE\n",
    "def rmse(pred, actual):\n",
    "    # Ignore nonzero terms.\n",
    "    pred = pred[actual.nonzero()].flatten()\n",
    "    actual = actual[actual.nonzero()].flatten()\n",
    "    return sqrt(mean_squared_error(pred, actual))"
   ]
  },
  {
   "cell_type": "code",
   "execution_count": 37,
   "metadata": {},
   "outputs": [
    {
     "name": "stdout",
     "output_type": "stream",
     "text": [
      "Item-based CF RMSE for test data: 2187.5797675702765\n",
      "Item-based CF RMSE for train data: 2172.947798111302\n"
     ]
    }
   ],
   "source": [
    "# Predict ratings on the training data with both similarity score\n",
    "\n",
    "item_predic_train = predict(train_data_matrix, item_correlation)\n",
    "item_predic_test  = predict(test_data_matrix, item_correlation)\n",
    "\n",
    "print('Item-based CF RMSE for test data: ' + str(rmse(item_predic_test, test_data_matrix)))\n",
    "print('Item-based CF RMSE for train data: ' + str(rmse(item_predic_train, train_data_matrix)))"
   ]
  },
  {
   "cell_type": "code",
   "execution_count": 38,
   "metadata": {},
   "outputs": [
    {
     "data": {
      "text/plain": [
       "array([[ 2.27331382e+03,  5.22436449e+00, -7.46702829e+01],\n",
       "       [ 2.27334513e+03,  1.49024107e+01, -7.53285453e+01],\n",
       "       [ 2.27330929e+03,  1.97849221e+01, -7.42497854e+01],\n",
       "       ...,\n",
       "       [ 7.21865769e+04,  2.04473721e+02, -2.48704482e+03],\n",
       "       [ 9.54037889e+04,  3.08894789e+03, -3.20430515e+03],\n",
       "       [ 4.98092104e+04,  2.36772325e+02, -1.71226600e+03]])"
      ]
     },
     "execution_count": 38,
     "metadata": {},
     "output_type": "execute_result"
    }
   ],
   "source": [
    "item_predic_train"
   ]
  },
  {
   "cell_type": "markdown",
   "metadata": {},
   "source": [
    "### Prediction2"
   ]
  },
  {
   "cell_type": "code",
   "execution_count": 132,
   "metadata": {},
   "outputs": [
    {
     "data": {
      "text/html": [
       "<div>\n",
       "<style scoped>\n",
       "    .dataframe tbody tr th:only-of-type {\n",
       "        vertical-align: middle;\n",
       "    }\n",
       "\n",
       "    .dataframe tbody tr th {\n",
       "        vertical-align: top;\n",
       "    }\n",
       "\n",
       "    .dataframe thead th {\n",
       "        text-align: right;\n",
       "    }\n",
       "</style>\n",
       "<table border=\"1\" class=\"dataframe\">\n",
       "  <thead>\n",
       "    <tr style=\"text-align: right;\">\n",
       "      <th>userId</th>\n",
       "      <th>504</th>\n",
       "      <th>645</th>\n",
       "      <th>1367</th>\n",
       "      <th>1722</th>\n",
       "      <th>1869</th>\n",
       "      <th>2208</th>\n",
       "      <th>2355</th>\n",
       "      <th>2357</th>\n",
       "      <th>2534</th>\n",
       "      <th>2610</th>\n",
       "      <th>...</th>\n",
       "      <th>136264</th>\n",
       "      <th>136971</th>\n",
       "      <th>137135</th>\n",
       "      <th>137169</th>\n",
       "      <th>137189</th>\n",
       "      <th>137236</th>\n",
       "      <th>137375</th>\n",
       "      <th>137498</th>\n",
       "      <th>137677</th>\n",
       "      <th>137972</th>\n",
       "    </tr>\n",
       "    <tr>\n",
       "      <th>movieId</th>\n",
       "      <th></th>\n",
       "      <th></th>\n",
       "      <th></th>\n",
       "      <th></th>\n",
       "      <th></th>\n",
       "      <th></th>\n",
       "      <th></th>\n",
       "      <th></th>\n",
       "      <th></th>\n",
       "      <th></th>\n",
       "      <th></th>\n",
       "      <th></th>\n",
       "      <th></th>\n",
       "      <th></th>\n",
       "      <th></th>\n",
       "      <th></th>\n",
       "      <th></th>\n",
       "      <th></th>\n",
       "      <th></th>\n",
       "      <th></th>\n",
       "      <th></th>\n",
       "    </tr>\n",
       "  </thead>\n",
       "  <tbody>\n",
       "    <tr>\n",
       "      <th>1</th>\n",
       "      <td>0.0</td>\n",
       "      <td>0.0</td>\n",
       "      <td>4.0</td>\n",
       "      <td>0.0</td>\n",
       "      <td>0.0</td>\n",
       "      <td>0.0</td>\n",
       "      <td>0.0</td>\n",
       "      <td>4.0</td>\n",
       "      <td>0.0</td>\n",
       "      <td>0.0</td>\n",
       "      <td>...</td>\n",
       "      <td>0.0</td>\n",
       "      <td>5.0</td>\n",
       "      <td>0.0</td>\n",
       "      <td>0.0</td>\n",
       "      <td>3.5</td>\n",
       "      <td>0.0</td>\n",
       "      <td>4.0</td>\n",
       "      <td>5.0</td>\n",
       "      <td>0.0</td>\n",
       "      <td>0.0</td>\n",
       "    </tr>\n",
       "    <tr>\n",
       "      <th>2</th>\n",
       "      <td>0.0</td>\n",
       "      <td>0.0</td>\n",
       "      <td>0.0</td>\n",
       "      <td>0.0</td>\n",
       "      <td>0.0</td>\n",
       "      <td>0.0</td>\n",
       "      <td>0.0</td>\n",
       "      <td>0.0</td>\n",
       "      <td>0.0</td>\n",
       "      <td>0.0</td>\n",
       "      <td>...</td>\n",
       "      <td>0.0</td>\n",
       "      <td>0.0</td>\n",
       "      <td>0.0</td>\n",
       "      <td>0.0</td>\n",
       "      <td>0.0</td>\n",
       "      <td>0.0</td>\n",
       "      <td>3.5</td>\n",
       "      <td>0.0</td>\n",
       "      <td>0.0</td>\n",
       "      <td>0.0</td>\n",
       "    </tr>\n",
       "    <tr>\n",
       "      <th>3</th>\n",
       "      <td>0.0</td>\n",
       "      <td>0.0</td>\n",
       "      <td>0.0</td>\n",
       "      <td>0.0</td>\n",
       "      <td>0.0</td>\n",
       "      <td>0.0</td>\n",
       "      <td>0.0</td>\n",
       "      <td>0.0</td>\n",
       "      <td>0.0</td>\n",
       "      <td>0.0</td>\n",
       "      <td>...</td>\n",
       "      <td>0.0</td>\n",
       "      <td>4.0</td>\n",
       "      <td>0.0</td>\n",
       "      <td>0.0</td>\n",
       "      <td>0.0</td>\n",
       "      <td>0.0</td>\n",
       "      <td>0.0</td>\n",
       "      <td>0.0</td>\n",
       "      <td>0.0</td>\n",
       "      <td>0.0</td>\n",
       "    </tr>\n",
       "    <tr>\n",
       "      <th>4</th>\n",
       "      <td>0.0</td>\n",
       "      <td>0.0</td>\n",
       "      <td>0.0</td>\n",
       "      <td>0.0</td>\n",
       "      <td>0.0</td>\n",
       "      <td>0.0</td>\n",
       "      <td>0.0</td>\n",
       "      <td>0.0</td>\n",
       "      <td>0.0</td>\n",
       "      <td>0.0</td>\n",
       "      <td>...</td>\n",
       "      <td>0.0</td>\n",
       "      <td>0.0</td>\n",
       "      <td>0.0</td>\n",
       "      <td>0.0</td>\n",
       "      <td>0.0</td>\n",
       "      <td>0.0</td>\n",
       "      <td>0.0</td>\n",
       "      <td>0.0</td>\n",
       "      <td>0.0</td>\n",
       "      <td>0.0</td>\n",
       "    </tr>\n",
       "    <tr>\n",
       "      <th>5</th>\n",
       "      <td>0.0</td>\n",
       "      <td>0.0</td>\n",
       "      <td>4.0</td>\n",
       "      <td>0.0</td>\n",
       "      <td>1.0</td>\n",
       "      <td>0.0</td>\n",
       "      <td>0.0</td>\n",
       "      <td>0.0</td>\n",
       "      <td>0.0</td>\n",
       "      <td>0.0</td>\n",
       "      <td>...</td>\n",
       "      <td>0.0</td>\n",
       "      <td>4.0</td>\n",
       "      <td>0.0</td>\n",
       "      <td>0.0</td>\n",
       "      <td>0.5</td>\n",
       "      <td>2.0</td>\n",
       "      <td>0.0</td>\n",
       "      <td>0.0</td>\n",
       "      <td>0.0</td>\n",
       "      <td>0.0</td>\n",
       "    </tr>\n",
       "  </tbody>\n",
       "</table>\n",
       "<p>5 rows × 500 columns</p>\n",
       "</div>"
      ],
      "text/plain": [
       "userId   504     645     1367    1722    1869    2208    2355    2357    \\\n",
       "movieId                                                                   \n",
       "1           0.0     0.0     4.0     0.0     0.0     0.0     0.0     4.0   \n",
       "2           0.0     0.0     0.0     0.0     0.0     0.0     0.0     0.0   \n",
       "3           0.0     0.0     0.0     0.0     0.0     0.0     0.0     0.0   \n",
       "4           0.0     0.0     0.0     0.0     0.0     0.0     0.0     0.0   \n",
       "5           0.0     0.0     4.0     0.0     1.0     0.0     0.0     0.0   \n",
       "\n",
       "userId   2534    2610    ...  136264  136971  137135  137169  137189  137236  \\\n",
       "movieId                  ...                                                   \n",
       "1           0.0     0.0  ...     0.0     5.0     0.0     0.0     3.5     0.0   \n",
       "2           0.0     0.0  ...     0.0     0.0     0.0     0.0     0.0     0.0   \n",
       "3           0.0     0.0  ...     0.0     4.0     0.0     0.0     0.0     0.0   \n",
       "4           0.0     0.0  ...     0.0     0.0     0.0     0.0     0.0     0.0   \n",
       "5           0.0     0.0  ...     0.0     4.0     0.0     0.0     0.5     2.0   \n",
       "\n",
       "userId   137375  137498  137677  137972  \n",
       "movieId                                  \n",
       "1           4.0     5.0     0.0     0.0  \n",
       "2           3.5     0.0     0.0     0.0  \n",
       "3           0.0     0.0     0.0     0.0  \n",
       "4           0.0     0.0     0.0     0.0  \n",
       "5           0.0     0.0     0.0     0.0  \n",
       "\n",
       "[5 rows x 500 columns]"
      ]
     },
     "execution_count": 132,
     "metadata": {},
     "output_type": "execute_result"
    }
   ],
   "source": [
    "#build matrix\n",
    "from scipy.sparse import csr_matrix\n",
    "df_movie_train = train.pivot(index='movieId',columns='userId',values='rating').fillna(0)\n",
    "df_movie_test = test.pivot(index='movieId',columns='userId',values='rating').fillna(0)\n",
    "mat_movie_features = csr_matrix(df_movie_train.values)\n",
    "df_movie_train.head(5)\n"
   ]
  },
  {
   "cell_type": "code",
   "execution_count": 133,
   "metadata": {},
   "outputs": [
    {
     "data": {
      "text/plain": [
       "(3594, 500)"
      ]
     },
     "execution_count": 133,
     "metadata": {},
     "output_type": "execute_result"
    }
   ],
   "source": [
    "df_movie_train.shape"
   ]
  },
  {
   "cell_type": "code",
   "execution_count": 143,
   "metadata": {},
   "outputs": [],
   "source": [
    "def similarity(ratings):\n",
    "    item_correlation1 = 1 - pairwise_distances(ratings, metric='correlation')\n",
    "    item_correlation1[np.isnan(item_correlation1)] = 0\n",
    "    return item_correlation1"
   ]
  },
  {
   "cell_type": "code",
   "execution_count": 144,
   "metadata": {},
   "outputs": [
    {
     "data": {
      "text/plain": [
       "(3594, 3594)"
      ]
     },
     "execution_count": 144,
     "metadata": {},
     "output_type": "execute_result"
    }
   ],
   "source": [
    "item_correlation1 = similarity(df_movie_train)\n",
    "item_correlation1.shape"
   ]
  },
  {
   "cell_type": "code",
   "execution_count": 147,
   "metadata": {},
   "outputs": [
    {
     "data": {
      "text/plain": [
       "(3594, 1)"
      ]
     },
     "execution_count": 147,
     "metadata": {},
     "output_type": "execute_result"
    }
   ],
   "source": [
    "sum_=np.array([np.abs(item_correlation1).sum(axis=1)])\n",
    "sum_ = sum_.T\n",
    "np.shape(sum_)"
   ]
  },
  {
   "cell_type": "code",
   "execution_count": 148,
   "metadata": {
    "scrolled": true
   },
   "outputs": [
    {
     "data": {
      "text/plain": [
       "array([[ 0.13582468,  0.05062787,  0.21346121, ...,  0.07319643,\n",
       "         0.0723205 ,  0.06595604],\n",
       "       [ 0.14194429,  0.05158603,  0.23176742, ...,  0.05713722,\n",
       "         0.10985621,  0.15716071],\n",
       "       [ 0.00631832, -0.01547731,  0.11298845, ...,  0.0123698 ,\n",
       "        -0.00679398,  0.01528196],\n",
       "       ...,\n",
       "       [ 0.0558674 ,  0.04130579, -0.01217525, ...,  0.01106135,\n",
       "         0.09686541, -0.00364792],\n",
       "       [ 0.05441652,  0.03587528, -0.00757077, ...,  0.00842176,\n",
       "         0.0703173 , -0.00942184],\n",
       "       [-0.07491952,  0.06135464, -0.13400533, ..., -0.03881219,\n",
       "        -0.11261116, -0.09121438]])"
      ]
     },
     "execution_count": 148,
     "metadata": {},
     "output_type": "execute_result"
    }
   ],
   "source": [
    "rate_ = np.array(item_correlation1).dot(np.array(df_movie_train))\n",
    "rate_/sum_"
   ]
  },
  {
   "cell_type": "code",
   "execution_count": 154,
   "metadata": {},
   "outputs": [],
   "source": [
    "def predict(ratings, similarity):\n",
    "    sum_=np.array([np.abs(similarity).sum(axis=1)])\n",
    "    sum_ = sum_.T\n",
    "    rate_ = np.array(similarity).dot(np.array(ratings))\n",
    "    pred = similarity.dot(ratings) / sum_\n",
    "    return pred\n",
    "\n",
    "# Function to calculate RMSE\n",
    "def rmse1(pred, actual):\n",
    "    # Ignore nonzero terms.\n",
    "    return sqrt(mean_squared_error(pred, actual))"
   ]
  },
  {
   "cell_type": "code",
   "execution_count": 155,
   "metadata": {},
   "outputs": [
    {
     "data": {
      "text/plain": [
       "(3594, 500)"
      ]
     },
     "execution_count": 155,
     "metadata": {},
     "output_type": "execute_result"
    }
   ],
   "source": [
    "item_predic_train_1 = predict(df_movie_train, item_correlation1)\n",
    "np.shape(item_predic_train_1)"
   ]
  },
  {
   "cell_type": "code",
   "execution_count": 156,
   "metadata": {},
   "outputs": [
    {
     "data": {
      "text/html": [
       "<div>\n",
       "<style scoped>\n",
       "    .dataframe tbody tr th:only-of-type {\n",
       "        vertical-align: middle;\n",
       "    }\n",
       "\n",
       "    .dataframe tbody tr th {\n",
       "        vertical-align: top;\n",
       "    }\n",
       "\n",
       "    .dataframe thead th {\n",
       "        text-align: right;\n",
       "    }\n",
       "</style>\n",
       "<table border=\"1\" class=\"dataframe\">\n",
       "  <thead>\n",
       "    <tr style=\"text-align: right;\">\n",
       "      <th>userId</th>\n",
       "      <th>504</th>\n",
       "      <th>645</th>\n",
       "      <th>1367</th>\n",
       "      <th>1722</th>\n",
       "      <th>1869</th>\n",
       "      <th>2208</th>\n",
       "      <th>2355</th>\n",
       "      <th>2357</th>\n",
       "      <th>2534</th>\n",
       "      <th>2610</th>\n",
       "      <th>...</th>\n",
       "      <th>136264</th>\n",
       "      <th>136971</th>\n",
       "      <th>137135</th>\n",
       "      <th>137169</th>\n",
       "      <th>137189</th>\n",
       "      <th>137236</th>\n",
       "      <th>137375</th>\n",
       "      <th>137498</th>\n",
       "      <th>137677</th>\n",
       "      <th>137972</th>\n",
       "    </tr>\n",
       "    <tr>\n",
       "      <th>movieId</th>\n",
       "      <th></th>\n",
       "      <th></th>\n",
       "      <th></th>\n",
       "      <th></th>\n",
       "      <th></th>\n",
       "      <th></th>\n",
       "      <th></th>\n",
       "      <th></th>\n",
       "      <th></th>\n",
       "      <th></th>\n",
       "      <th></th>\n",
       "      <th></th>\n",
       "      <th></th>\n",
       "      <th></th>\n",
       "      <th></th>\n",
       "      <th></th>\n",
       "      <th></th>\n",
       "      <th></th>\n",
       "      <th></th>\n",
       "      <th></th>\n",
       "      <th></th>\n",
       "    </tr>\n",
       "  </thead>\n",
       "  <tbody>\n",
       "    <tr>\n",
       "      <th>1</th>\n",
       "      <td>0.135825</td>\n",
       "      <td>0.050628</td>\n",
       "      <td>0.213461</td>\n",
       "      <td>0.126716</td>\n",
       "      <td>0.100590</td>\n",
       "      <td>0.063282</td>\n",
       "      <td>0.073187</td>\n",
       "      <td>0.081996</td>\n",
       "      <td>0.045764</td>\n",
       "      <td>0.039148</td>\n",
       "      <td>...</td>\n",
       "      <td>0.037538</td>\n",
       "      <td>0.135130</td>\n",
       "      <td>0.088490</td>\n",
       "      <td>0.058500</td>\n",
       "      <td>0.169108</td>\n",
       "      <td>0.106720</td>\n",
       "      <td>0.487189</td>\n",
       "      <td>0.073196</td>\n",
       "      <td>0.072321</td>\n",
       "      <td>0.065956</td>\n",
       "    </tr>\n",
       "    <tr>\n",
       "      <th>2</th>\n",
       "      <td>0.141944</td>\n",
       "      <td>0.051586</td>\n",
       "      <td>0.231767</td>\n",
       "      <td>0.128544</td>\n",
       "      <td>0.199214</td>\n",
       "      <td>0.061416</td>\n",
       "      <td>0.060447</td>\n",
       "      <td>0.074795</td>\n",
       "      <td>0.033514</td>\n",
       "      <td>0.041914</td>\n",
       "      <td>...</td>\n",
       "      <td>0.046476</td>\n",
       "      <td>0.027480</td>\n",
       "      <td>0.101675</td>\n",
       "      <td>0.054957</td>\n",
       "      <td>0.134925</td>\n",
       "      <td>0.035896</td>\n",
       "      <td>0.465304</td>\n",
       "      <td>0.057137</td>\n",
       "      <td>0.109856</td>\n",
       "      <td>0.157161</td>\n",
       "    </tr>\n",
       "    <tr>\n",
       "      <th>3</th>\n",
       "      <td>0.006318</td>\n",
       "      <td>-0.015477</td>\n",
       "      <td>0.112988</td>\n",
       "      <td>0.057095</td>\n",
       "      <td>0.101443</td>\n",
       "      <td>-0.017929</td>\n",
       "      <td>0.082527</td>\n",
       "      <td>-0.007231</td>\n",
       "      <td>-0.002165</td>\n",
       "      <td>0.005509</td>\n",
       "      <td>...</td>\n",
       "      <td>0.020242</td>\n",
       "      <td>0.256361</td>\n",
       "      <td>0.007526</td>\n",
       "      <td>-0.019151</td>\n",
       "      <td>0.006023</td>\n",
       "      <td>0.190280</td>\n",
       "      <td>-0.007833</td>\n",
       "      <td>0.012370</td>\n",
       "      <td>-0.006794</td>\n",
       "      <td>0.015282</td>\n",
       "    </tr>\n",
       "    <tr>\n",
       "      <th>4</th>\n",
       "      <td>0.044465</td>\n",
       "      <td>-0.014154</td>\n",
       "      <td>0.189699</td>\n",
       "      <td>0.033098</td>\n",
       "      <td>0.259107</td>\n",
       "      <td>-0.032912</td>\n",
       "      <td>0.038125</td>\n",
       "      <td>0.031307</td>\n",
       "      <td>-0.006500</td>\n",
       "      <td>0.009514</td>\n",
       "      <td>...</td>\n",
       "      <td>0.016579</td>\n",
       "      <td>0.042001</td>\n",
       "      <td>0.014858</td>\n",
       "      <td>-0.013015</td>\n",
       "      <td>-0.004295</td>\n",
       "      <td>0.088403</td>\n",
       "      <td>0.020823</td>\n",
       "      <td>0.029027</td>\n",
       "      <td>0.069188</td>\n",
       "      <td>0.124129</td>\n",
       "    </tr>\n",
       "    <tr>\n",
       "      <th>5</th>\n",
       "      <td>-0.020085</td>\n",
       "      <td>-0.023251</td>\n",
       "      <td>0.248522</td>\n",
       "      <td>0.046486</td>\n",
       "      <td>0.212582</td>\n",
       "      <td>-0.062935</td>\n",
       "      <td>0.083515</td>\n",
       "      <td>-0.002403</td>\n",
       "      <td>-0.005488</td>\n",
       "      <td>0.004876</td>\n",
       "      <td>...</td>\n",
       "      <td>0.008037</td>\n",
       "      <td>0.233029</td>\n",
       "      <td>-0.008840</td>\n",
       "      <td>-0.038599</td>\n",
       "      <td>-0.020077</td>\n",
       "      <td>0.235593</td>\n",
       "      <td>-0.102660</td>\n",
       "      <td>0.018474</td>\n",
       "      <td>-0.019269</td>\n",
       "      <td>0.061873</td>\n",
       "    </tr>\n",
       "  </tbody>\n",
       "</table>\n",
       "<p>5 rows × 500 columns</p>\n",
       "</div>"
      ],
      "text/plain": [
       "userId     504       645       1367      1722      1869      2208      2355    \\\n",
       "movieId                                                                         \n",
       "1        0.135825  0.050628  0.213461  0.126716  0.100590  0.063282  0.073187   \n",
       "2        0.141944  0.051586  0.231767  0.128544  0.199214  0.061416  0.060447   \n",
       "3        0.006318 -0.015477  0.112988  0.057095  0.101443 -0.017929  0.082527   \n",
       "4        0.044465 -0.014154  0.189699  0.033098  0.259107 -0.032912  0.038125   \n",
       "5       -0.020085 -0.023251  0.248522  0.046486  0.212582 -0.062935  0.083515   \n",
       "\n",
       "userId     2357      2534      2610    ...    136264    136971    137135  \\\n",
       "movieId                                ...                                 \n",
       "1        0.081996  0.045764  0.039148  ...  0.037538  0.135130  0.088490   \n",
       "2        0.074795  0.033514  0.041914  ...  0.046476  0.027480  0.101675   \n",
       "3       -0.007231 -0.002165  0.005509  ...  0.020242  0.256361  0.007526   \n",
       "4        0.031307 -0.006500  0.009514  ...  0.016579  0.042001  0.014858   \n",
       "5       -0.002403 -0.005488  0.004876  ...  0.008037  0.233029 -0.008840   \n",
       "\n",
       "userId     137169    137189    137236    137375    137498    137677    137972  \n",
       "movieId                                                                        \n",
       "1        0.058500  0.169108  0.106720  0.487189  0.073196  0.072321  0.065956  \n",
       "2        0.054957  0.134925  0.035896  0.465304  0.057137  0.109856  0.157161  \n",
       "3       -0.019151  0.006023  0.190280 -0.007833  0.012370 -0.006794  0.015282  \n",
       "4       -0.013015 -0.004295  0.088403  0.020823  0.029027  0.069188  0.124129  \n",
       "5       -0.038599 -0.020077  0.235593 -0.102660  0.018474 -0.019269  0.061873  \n",
       "\n",
       "[5 rows x 500 columns]"
      ]
     },
     "execution_count": 156,
     "metadata": {},
     "output_type": "execute_result"
    }
   ],
   "source": [
    "item_predic_train_1 = pd.DataFrame(item_predic_train_1, index=df_movie_train.index, columns=df_movie_train.columns)\n",
    "item_predic_train_1.head()"
   ]
  },
  {
   "cell_type": "code",
   "execution_count": 157,
   "metadata": {},
   "outputs": [
    {
     "name": "stdout",
     "output_type": "stream",
     "text": [
      "Item-based CF RMSE for train data: 0.5404254767284249\n"
     ]
    }
   ],
   "source": [
    "print('Item-based CF RMSE for train data: ' + str(rmse1(item_predic_train_1, df_movie_train)))"
   ]
  },
  {
   "cell_type": "code",
   "execution_count": 160,
   "metadata": {},
   "outputs": [
    {
     "name": "stdout",
     "output_type": "stream",
     "text": [
      "Item-based CF RMSE for test data: 0.46860039500530337\n"
     ]
    }
   ],
   "source": [
    "item_correlation_test = similarity(df_movie_test)\n",
    "item_predic_test_1 = predict(df_movie_test, item_correlation_test)\n",
    "print('Item-based CF RMSE for test data: ' + str(rmse1(item_predic_test_1, df_movie_test)))"
   ]
  },
  {
   "cell_type": "code",
   "execution_count": null,
   "metadata": {},
   "outputs": [],
   "source": []
  },
  {
   "cell_type": "code",
   "execution_count": null,
   "metadata": {},
   "outputs": [],
   "source": []
  },
  {
   "cell_type": "code",
   "execution_count": null,
   "metadata": {},
   "outputs": [],
   "source": []
  },
  {
   "cell_type": "code",
   "execution_count": null,
   "metadata": {},
   "outputs": [],
   "source": []
  },
  {
   "cell_type": "code",
   "execution_count": null,
   "metadata": {},
   "outputs": [],
   "source": []
  },
  {
   "cell_type": "markdown",
   "metadata": {},
   "source": [
    "### not related"
   ]
  },
  {
   "cell_type": "code",
   "execution_count": 81,
   "metadata": {},
   "outputs": [
    {
     "data": {
      "text/html": [
       "<div>\n",
       "<style scoped>\n",
       "    .dataframe tbody tr th:only-of-type {\n",
       "        vertical-align: middle;\n",
       "    }\n",
       "\n",
       "    .dataframe tbody tr th {\n",
       "        vertical-align: top;\n",
       "    }\n",
       "\n",
       "    .dataframe thead th {\n",
       "        text-align: right;\n",
       "    }\n",
       "</style>\n",
       "<table border=\"1\" class=\"dataframe\">\n",
       "  <thead>\n",
       "    <tr style=\"text-align: right;\">\n",
       "      <th>movieId</th>\n",
       "      <th>1</th>\n",
       "      <th>2</th>\n",
       "      <th>3</th>\n",
       "      <th>4</th>\n",
       "      <th>5</th>\n",
       "      <th>6</th>\n",
       "      <th>7</th>\n",
       "      <th>8</th>\n",
       "      <th>9</th>\n",
       "      <th>10</th>\n",
       "      <th>...</th>\n",
       "      <th>109487</th>\n",
       "      <th>110102</th>\n",
       "      <th>111362</th>\n",
       "      <th>111759</th>\n",
       "      <th>112183</th>\n",
       "      <th>112290</th>\n",
       "      <th>112556</th>\n",
       "      <th>112623</th>\n",
       "      <th>112852</th>\n",
       "      <th>116797</th>\n",
       "    </tr>\n",
       "    <tr>\n",
       "      <th>movieId</th>\n",
       "      <th></th>\n",
       "      <th></th>\n",
       "      <th></th>\n",
       "      <th></th>\n",
       "      <th></th>\n",
       "      <th></th>\n",
       "      <th></th>\n",
       "      <th></th>\n",
       "      <th></th>\n",
       "      <th></th>\n",
       "      <th></th>\n",
       "      <th></th>\n",
       "      <th></th>\n",
       "      <th></th>\n",
       "      <th></th>\n",
       "      <th></th>\n",
       "      <th></th>\n",
       "      <th></th>\n",
       "      <th></th>\n",
       "      <th></th>\n",
       "      <th></th>\n",
       "    </tr>\n",
       "  </thead>\n",
       "  <tbody>\n",
       "    <tr>\n",
       "      <th>1</th>\n",
       "      <td>1.000000</td>\n",
       "      <td>0.331319</td>\n",
       "      <td>0.285415</td>\n",
       "      <td>0.108333</td>\n",
       "      <td>0.265780</td>\n",
       "      <td>0.327709</td>\n",
       "      <td>0.257889</td>\n",
       "      <td>0.000000</td>\n",
       "      <td>0.230687</td>\n",
       "      <td>0.269328</td>\n",
       "      <td>...</td>\n",
       "      <td>0.082015</td>\n",
       "      <td>0.065325</td>\n",
       "      <td>0.058937</td>\n",
       "      <td>0.000000</td>\n",
       "      <td>0.018528</td>\n",
       "      <td>0.087885</td>\n",
       "      <td>0.036475</td>\n",
       "      <td>0.005872</td>\n",
       "      <td>0.070410</td>\n",
       "      <td>0.0</td>\n",
       "    </tr>\n",
       "    <tr>\n",
       "      <th>2</th>\n",
       "      <td>0.331319</td>\n",
       "      <td>1.000000</td>\n",
       "      <td>0.118280</td>\n",
       "      <td>0.020785</td>\n",
       "      <td>0.144886</td>\n",
       "      <td>0.163144</td>\n",
       "      <td>0.082842</td>\n",
       "      <td>0.000000</td>\n",
       "      <td>0.040698</td>\n",
       "      <td>0.235612</td>\n",
       "      <td>...</td>\n",
       "      <td>0.041273</td>\n",
       "      <td>0.000000</td>\n",
       "      <td>0.000000</td>\n",
       "      <td>0.000000</td>\n",
       "      <td>0.000000</td>\n",
       "      <td>0.000000</td>\n",
       "      <td>0.000000</td>\n",
       "      <td>0.000000</td>\n",
       "      <td>0.000000</td>\n",
       "      <td>0.0</td>\n",
       "    </tr>\n",
       "    <tr>\n",
       "      <th>3</th>\n",
       "      <td>0.285415</td>\n",
       "      <td>0.118280</td>\n",
       "      <td>1.000000</td>\n",
       "      <td>0.084307</td>\n",
       "      <td>0.494264</td>\n",
       "      <td>0.434314</td>\n",
       "      <td>0.386659</td>\n",
       "      <td>0.000000</td>\n",
       "      <td>0.419051</td>\n",
       "      <td>0.081877</td>\n",
       "      <td>...</td>\n",
       "      <td>0.000000</td>\n",
       "      <td>0.000000</td>\n",
       "      <td>0.000000</td>\n",
       "      <td>0.000000</td>\n",
       "      <td>0.000000</td>\n",
       "      <td>0.000000</td>\n",
       "      <td>0.000000</td>\n",
       "      <td>0.000000</td>\n",
       "      <td>0.000000</td>\n",
       "      <td>0.0</td>\n",
       "    </tr>\n",
       "    <tr>\n",
       "      <th>4</th>\n",
       "      <td>0.108333</td>\n",
       "      <td>0.020785</td>\n",
       "      <td>0.084307</td>\n",
       "      <td>1.000000</td>\n",
       "      <td>0.190655</td>\n",
       "      <td>0.000000</td>\n",
       "      <td>0.117598</td>\n",
       "      <td>0.000000</td>\n",
       "      <td>0.112967</td>\n",
       "      <td>0.057857</td>\n",
       "      <td>...</td>\n",
       "      <td>0.000000</td>\n",
       "      <td>0.000000</td>\n",
       "      <td>0.000000</td>\n",
       "      <td>0.000000</td>\n",
       "      <td>0.000000</td>\n",
       "      <td>0.000000</td>\n",
       "      <td>0.000000</td>\n",
       "      <td>0.000000</td>\n",
       "      <td>0.000000</td>\n",
       "      <td>0.0</td>\n",
       "    </tr>\n",
       "    <tr>\n",
       "      <th>5</th>\n",
       "      <td>0.265780</td>\n",
       "      <td>0.144886</td>\n",
       "      <td>0.494264</td>\n",
       "      <td>0.190655</td>\n",
       "      <td>1.000000</td>\n",
       "      <td>0.331738</td>\n",
       "      <td>0.402504</td>\n",
       "      <td>0.121519</td>\n",
       "      <td>0.417068</td>\n",
       "      <td>0.098588</td>\n",
       "      <td>...</td>\n",
       "      <td>0.026620</td>\n",
       "      <td>0.028741</td>\n",
       "      <td>0.021609</td>\n",
       "      <td>0.032333</td>\n",
       "      <td>0.000000</td>\n",
       "      <td>0.000000</td>\n",
       "      <td>0.023775</td>\n",
       "      <td>0.025835</td>\n",
       "      <td>0.022127</td>\n",
       "      <td>0.0</td>\n",
       "    </tr>\n",
       "  </tbody>\n",
       "</table>\n",
       "<p>5 rows × 3594 columns</p>\n",
       "</div>"
      ],
      "text/plain": [
       "movieId    1         2         3         4         5         6         7       \\\n",
       "movieId                                                                         \n",
       "1        1.000000  0.331319  0.285415  0.108333  0.265780  0.327709  0.257889   \n",
       "2        0.331319  1.000000  0.118280  0.020785  0.144886  0.163144  0.082842   \n",
       "3        0.285415  0.118280  1.000000  0.084307  0.494264  0.434314  0.386659   \n",
       "4        0.108333  0.020785  0.084307  1.000000  0.190655  0.000000  0.117598   \n",
       "5        0.265780  0.144886  0.494264  0.190655  1.000000  0.331738  0.402504   \n",
       "\n",
       "movieId    8         9         10      ...    109487    110102    111362  \\\n",
       "movieId                                ...                                 \n",
       "1        0.000000  0.230687  0.269328  ...  0.082015  0.065325  0.058937   \n",
       "2        0.000000  0.040698  0.235612  ...  0.041273  0.000000  0.000000   \n",
       "3        0.000000  0.419051  0.081877  ...  0.000000  0.000000  0.000000   \n",
       "4        0.000000  0.112967  0.057857  ...  0.000000  0.000000  0.000000   \n",
       "5        0.121519  0.417068  0.098588  ...  0.026620  0.028741  0.021609   \n",
       "\n",
       "movieId    111759    112183    112290    112556    112623    112852  116797  \n",
       "movieId                                                                      \n",
       "1        0.000000  0.018528  0.087885  0.036475  0.005872  0.070410     0.0  \n",
       "2        0.000000  0.000000  0.000000  0.000000  0.000000  0.000000     0.0  \n",
       "3        0.000000  0.000000  0.000000  0.000000  0.000000  0.000000     0.0  \n",
       "4        0.000000  0.000000  0.000000  0.000000  0.000000  0.000000     0.0  \n",
       "5        0.032333  0.000000  0.000000  0.023775  0.025835  0.022127     0.0  \n",
       "\n",
       "[5 rows x 3594 columns]"
      ]
     },
     "execution_count": 81,
     "metadata": {},
     "output_type": "execute_result"
    }
   ],
   "source": [
    "from sklearn.metrics.pairwise import cosine_similarity\n",
    "cosine_sim = cosine_similarity(df_movie_features)\n",
    "cosine_sim = pd.DataFrame(cosine_sim, index=df_movie_features.index, columns=df_movie_features.index)\n",
    "cosine_sim.head()"
   ]
  },
  {
   "cell_type": "code",
   "execution_count": null,
   "metadata": {},
   "outputs": [],
   "source": []
  },
  {
   "cell_type": "code",
   "execution_count": null,
   "metadata": {},
   "outputs": [],
   "source": []
  },
  {
   "cell_type": "code",
   "execution_count": null,
   "metadata": {},
   "outputs": [],
   "source": []
  },
  {
   "cell_type": "code",
   "execution_count": null,
   "metadata": {},
   "outputs": [],
   "source": []
  },
  {
   "cell_type": "code",
   "execution_count": null,
   "metadata": {},
   "outputs": [],
   "source": []
  },
  {
   "cell_type": "code",
   "execution_count": null,
   "metadata": {},
   "outputs": [],
   "source": []
  },
  {
   "cell_type": "code",
   "execution_count": null,
   "metadata": {},
   "outputs": [],
   "source": []
  },
  {
   "cell_type": "code",
   "execution_count": 44,
   "metadata": {},
   "outputs": [],
   "source": [
    "model_knn = NearestNeighbors(metric='cosine', algorithm='brute', n_neighbors=20, n_jobs=-1)"
   ]
  },
  {
   "cell_type": "code",
   "execution_count": null,
   "metadata": {},
   "outputs": [],
   "source": [
    "def make_recommendation(model_knn, data, mapper, fav_movie, n_recommendations):\n",
    "    # fit\n",
    "    model_knn.fit(data)\n",
    "    # get input movie index\n",
    "    print('You have input movie:', fav_movie)\n",
    "\n",
    "    # inference\n",
    "    print('Recommendation system start to make inference')\n",
    "    print('......\\n')\n",
    "    distances, indices = model_knn.kneighbors(data, n_neighbors=n_recommendations+1)\n",
    "    # get list of raw idx of recommendations\n",
    "    raw_recommends = \\\n",
    "        sorted(list(zip(indices.squeeze().tolist(), distances.squeeze().tolist())), key=lambda x: x[1])[:0:-1]\n",
    "    # get reverse mapper\n",
    "    reverse_mapper = {v: k for k, v in mapper.items()}\n",
    "    # print recommendations\n",
    "    print('Recommendations for {}:'.format(fav_movie))\n",
    "    for i, (idx, dist) in enumerate(raw_recommends):\n",
    "        print('{0}: {1}, with distance of {2}'.format(i+1, reverse"
   ]
  },
  {
   "cell_type": "markdown",
   "metadata": {},
   "source": [
    "# method 3"
   ]
  },
  {
   "cell_type": "code",
   "execution_count": null,
   "metadata": {},
   "outputs": [],
   "source": [
    "def findksimilaritems(item_id, ratings, metric=metric, k=k):\n",
    "    similarities=[]\n",
    "    indices=[]    \n",
    "    ratings=ratings.T\n",
    "    model_knn = NearestNeighbors(metric = metric, algorithm = 'brute')\n",
    "    model_knn.fit(ratings)\n",
    "\n",
    "    distances, indices = model_knn.kneighbors(ratings.iloc[item_id-1, :].values.reshape(1, -1), n_neighbors = k+1)\n",
    "    similarities = 1-distances.flatten()\n",
    "    print '{0} most similar items for item {1}:\\n'.format(k,item_id)\n",
    "    for i in range(0, len(indices.flatten())):\n",
    "        if indices.flatten()[i]+1 == item_id:\n",
    "            continue;\n",
    "\n",
    "        else:\n",
    "            print '{0}: Item {1} :, with similarity of {2}'.format(i,indices.flatten()[i]+1, similarities.flatten()[i])\n",
    "    return similarities,indices"
   ]
  },
  {
   "cell_type": "code",
   "execution_count": null,
   "metadata": {},
   "outputs": [],
   "source": [
    "similarities,indices=findksimilaritems(3,M)"
   ]
  },
  {
   "cell_type": "code",
   "execution_count": null,
   "metadata": {},
   "outputs": [],
   "source": [
    "#This function predicts the rating for specified user-item combination based on item-based approach\n",
    "def predict_itembased(user_id, item_id, ratings, metric = metric, k=k):\n",
    "    prediction= wtd_sum =0\n",
    "    similarities, indices=findksimilaritems(item_id, ratings) #similar users based on correlation coefficients\n",
    "    sum_wt = np.sum(similarities)-1\n",
    "    product=1\n",
    "    \n",
    "    for i in range(0, len(indices.flatten())):\n",
    "        if indices.flatten()[i]+1 == item_id:\n",
    "            continue;\n",
    "        else:\n",
    "            product = ratings.iloc[user_id-1,indices.flatten()[i]] * (similarities[i])\n",
    "            wtd_sum = wtd_sum + product                              \n",
    "    prediction = int(round(wtd_sum/sum_wt))\n",
    "    print '\\nPredicted rating for user {0} -> item {1}: {2}'.format(user_id,item_id,prediction)      \n",
    "\n",
    "    return prediction"
   ]
  },
  {
   "cell_type": "code",
   "execution_count": null,
   "metadata": {},
   "outputs": [],
   "source": [
    "prediction = predict_itembased(1,3,M)"
   ]
  },
  {
   "cell_type": "markdown",
   "metadata": {},
   "source": [
    "# 4"
   ]
  },
  {
   "cell_type": "code",
   "execution_count": null,
   "metadata": {},
   "outputs": [],
   "source": []
  }
 ],
 "metadata": {
  "kernelspec": {
   "display_name": "Python 3",
   "language": "python",
   "name": "python3"
  },
  "language_info": {
   "codemirror_mode": {
    "name": "ipython",
    "version": 3
   },
   "file_extension": ".py",
   "mimetype": "text/x-python",
   "name": "python",
   "nbconvert_exporter": "python",
   "pygments_lexer": "ipython3",
   "version": "3.7.3"
  }
 },
 "nbformat": 4,
 "nbformat_minor": 4
}
